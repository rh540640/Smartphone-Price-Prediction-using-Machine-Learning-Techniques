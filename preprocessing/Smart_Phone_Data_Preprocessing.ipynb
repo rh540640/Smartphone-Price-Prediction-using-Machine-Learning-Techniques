{
 "cells": [
  {
   "cell_type": "markdown",
   "id": "7f839a7d-b4d3-4095-8da7-86ad08af088a",
   "metadata": {
    "tags": []
   },
   "source": [
    "# SMART PHONE PRICE PREDICTION"
   ]
  },
  {
   "cell_type": "code",
   "execution_count": 1,
   "id": "5ddb074b-9e4c-4c4d-9c54-b61598cb846e",
   "metadata": {},
   "outputs": [
    {
     "ename": "NameError",
     "evalue": "name 'pd' is not defined",
     "output_type": "error",
     "traceback": [
      "\u001b[1;31m---------------------------------------------------------------------------\u001b[0m",
      "\u001b[1;31mNameError\u001b[0m                                 Traceback (most recent call last)",
      "Input \u001b[1;32mIn [1]\u001b[0m, in \u001b[0;36m<cell line: 1>\u001b[1;34m()\u001b[0m\n\u001b[1;32m----> 1\u001b[0m df \u001b[38;5;241m=\u001b[39m \u001b[43mpd\u001b[49m\u001b[38;5;241m.\u001b[39mread_csv(\u001b[38;5;124mr\u001b[39m\u001b[38;5;124m\"\u001b[39m\u001b[38;5;124mSP_Preprocessed.csv\u001b[39m\u001b[38;5;124m\"\u001b[39m)\n\u001b[0;32m      2\u001b[0m df\u001b[38;5;241m.\u001b[39mdrop(columns\u001b[38;5;241m=\u001b[39mdf\u001b[38;5;241m.\u001b[39mcolumns[\u001b[38;5;241m0\u001b[39m], axis\u001b[38;5;241m=\u001b[39m\u001b[38;5;241m1\u001b[39m, inplace\u001b[38;5;241m=\u001b[39m\u001b[38;5;28;01mTrue\u001b[39;00m)\n\u001b[0;32m      3\u001b[0m df\u001b[38;5;241m.\u001b[39mdrop_duplicates(subset \u001b[38;5;241m=\u001b[39m\u001b[38;5;124m\"\u001b[39m\u001b[38;5;124mModel\u001b[39m\u001b[38;5;124m\"\u001b[39m,\n\u001b[0;32m      4\u001b[0m                      keep \u001b[38;5;241m=\u001b[39m \u001b[38;5;124m\"\u001b[39m\u001b[38;5;124mfirst\u001b[39m\u001b[38;5;124m\"\u001b[39m, inplace \u001b[38;5;241m=\u001b[39m \u001b[38;5;28;01mTrue\u001b[39;00m)\n",
      "\u001b[1;31mNameError\u001b[0m: name 'pd' is not defined"
     ]
    }
   ],
   "source": [
    "df = pd.read_csv(r\"SP_Preprocessed.csv\")\n",
    "df.drop(columns=df.columns[0], axis=1, inplace=True)\n",
    "df.drop_duplicates(subset =\"Model\",\n",
    "                     keep = \"first\", inplace = True)\n",
    "df.set_index('Model', inplace=True)"
   ]
  },
  {
   "cell_type": "markdown",
   "id": "666b8a90-0fc5-43cb-a43d-8525b2f6be34",
   "metadata": {},
   "source": [
    "## Data Structure"
   ]
  },
  {
   "cell_type": "code",
   "execution_count": 3,
   "id": "2dc750e8-efd2-4049-b0bc-663f5c261865",
   "metadata": {},
   "outputs": [
    {
     "data": {
      "text/plain": [
       "(2265, 12)"
      ]
     },
     "execution_count": 3,
     "metadata": {},
     "output_type": "execute_result"
    }
   ],
   "source": [
    "df.shape"
   ]
  },
  {
   "cell_type": "code",
   "execution_count": 4,
   "id": "5c57e6e5-5d64-4d39-893d-a2adad1bd1c0",
   "metadata": {},
   "outputs": [
    {
     "data": {
      "text/html": [
       "<div>\n",
       "<style scoped>\n",
       "    .dataframe tbody tr th:only-of-type {\n",
       "        vertical-align: middle;\n",
       "    }\n",
       "\n",
       "    .dataframe tbody tr th {\n",
       "        vertical-align: top;\n",
       "    }\n",
       "\n",
       "    .dataframe thead th {\n",
       "        text-align: right;\n",
       "    }\n",
       "</style>\n",
       "<table border=\"1\" class=\"dataframe\">\n",
       "  <thead>\n",
       "    <tr style=\"text-align: right;\">\n",
       "      <th></th>\n",
       "      <th>Stars</th>\n",
       "      <th>Num_of_Ratings</th>\n",
       "      <th>Reviews</th>\n",
       "      <th>Ram</th>\n",
       "      <th>Storage</th>\n",
       "      <th>Expandable</th>\n",
       "      <th>Display</th>\n",
       "      <th>Camera</th>\n",
       "      <th>Battery</th>\n",
       "      <th>Processor</th>\n",
       "      <th>Warranty</th>\n",
       "      <th>Price</th>\n",
       "    </tr>\n",
       "    <tr>\n",
       "      <th>Model</th>\n",
       "      <th></th>\n",
       "      <th></th>\n",
       "      <th></th>\n",
       "      <th></th>\n",
       "      <th></th>\n",
       "      <th></th>\n",
       "      <th></th>\n",
       "      <th></th>\n",
       "      <th></th>\n",
       "      <th></th>\n",
       "      <th></th>\n",
       "      <th></th>\n",
       "    </tr>\n",
       "  </thead>\n",
       "  <tbody>\n",
       "    <tr>\n",
       "      <th>LAVA Flair S1 (Champagne, 8 GB)</th>\n",
       "      <td>3.5</td>\n",
       "      <td>112 Ratings</td>\n",
       "      <td>15 Reviews</td>\n",
       "      <td>512 MB RAM</td>\n",
       "      <td>8 GB ROM</td>\n",
       "      <td>xpandable Upto 32 GB</td>\n",
       "      <td>11.43 cm (4.5 inch) FWVGA Display</td>\n",
       "      <td>3.2MP Rear Camera | 0.3MP Front Camera</td>\n",
       "      <td>1750 mAh Li-Ion Battery</td>\n",
       "      <td>MTK6572W Processor</td>\n",
       "      <td>Brand Warranty of 1 Year</td>\n",
       "      <td>₹1,999</td>\n",
       "    </tr>\n",
       "    <tr>\n",
       "      <th>LAVA A32 (White, 512 MB)</th>\n",
       "      <td>3.3</td>\n",
       "      <td>229 Ratings</td>\n",
       "      <td>24 Reviews</td>\n",
       "      <td>256 MB RAM</td>\n",
       "      <td>512 MB RO</td>\n",
       "      <td>Expandable Upto 32 GB</td>\n",
       "      <td>10.16 cm (4 inch) WVGA Display</td>\n",
       "      <td>2MP Rear Camera | 0.3MP Front Camera</td>\n",
       "      <td>1500 mAh Li-Ion Battery</td>\n",
       "      <td>SC7715 Processor</td>\n",
       "      <td>Brand Warranty of 1 Year Available for Mobile ...</td>\n",
       "      <td>₹1,999</td>\n",
       "    </tr>\n",
       "    <tr>\n",
       "      <th>LAVA A59 (White, 4 GB)</th>\n",
       "      <td>3.5</td>\n",
       "      <td>410 Ratings</td>\n",
       "      <td>51 Reviews</td>\n",
       "      <td>512 MB RAM</td>\n",
       "      <td>4 GB ROM</td>\n",
       "      <td>xpandable Upto 32 GB</td>\n",
       "      <td>11.43 cm (4.5 inch) FWVGA Display</td>\n",
       "      <td>5MP Rear Camera | 0.3MP Front Camera</td>\n",
       "      <td>1750 mAh Li-Ion Battery</td>\n",
       "      <td>SC7731C Processor</td>\n",
       "      <td>Brand Warranty of 1 Year</td>\n",
       "      <td>₹1,999</td>\n",
       "    </tr>\n",
       "    <tr>\n",
       "      <th>Panasonic T31 (White, 4 GB)</th>\n",
       "      <td>3.8</td>\n",
       "      <td>287 Ratings</td>\n",
       "      <td>43 Reviews</td>\n",
       "      <td>512 MB RAM</td>\n",
       "      <td>4 GB ROM</td>\n",
       "      <td>NaN</td>\n",
       "      <td>6.1 cm (2.4 inch) WVGA Display</td>\n",
       "      <td>5MP Rear Camera | 0.3MP Front Camera</td>\n",
       "      <td>1300 mAh Li-ion Battery</td>\n",
       "      <td>1 Year Manufacturer Warranty</td>\n",
       "      <td>1 Year Manufacturer Warranty</td>\n",
       "      <td>₹1,999</td>\n",
       "    </tr>\n",
       "    <tr>\n",
       "      <th>KARBONN ALFA A90 3G (BLACK AND SILVER, 512 MB)</th>\n",
       "      <td>2.8</td>\n",
       "      <td>45 Ratings</td>\n",
       "      <td>7 Reviews</td>\n",
       "      <td>256 MB RAM</td>\n",
       "      <td>512 MB RO</td>\n",
       "      <td>Expandable Upto 32 GB</td>\n",
       "      <td>10.16 cm (4 inch) WVGA Display</td>\n",
       "      <td>2MP Rear Camera | 1.3MP Front Camera</td>\n",
       "      <td>1400 mAh Battery</td>\n",
       "      <td>1 Year Manufacturer Warranty</td>\n",
       "      <td>1 Year Manufacturer Warranty</td>\n",
       "      <td>₹1,499</td>\n",
       "    </tr>\n",
       "  </tbody>\n",
       "</table>\n",
       "</div>"
      ],
      "text/plain": [
       "                                                Stars Num_of_Ratings  \\\n",
       "Model                                                                  \n",
       "LAVA Flair S1 (Champagne, 8 GB)                   3.5    112 Ratings   \n",
       "LAVA A32 (White, 512 MB)                          3.3    229 Ratings   \n",
       "LAVA A59 (White, 4 GB)                            3.5    410 Ratings   \n",
       "Panasonic T31 (White, 4 GB)                       3.8    287 Ratings   \n",
       "KARBONN ALFA A90 3G (BLACK AND SILVER, 512 MB)    2.8     45 Ratings   \n",
       "\n",
       "                                                   Reviews          Ram  \\\n",
       "Model                                                                     \n",
       "LAVA Flair S1 (Champagne, 8 GB)                 15 Reviews  512 MB RAM    \n",
       "LAVA A32 (White, 512 MB)                        24 Reviews  256 MB RAM    \n",
       "LAVA A59 (White, 4 GB)                          51 Reviews  512 MB RAM    \n",
       "Panasonic T31 (White, 4 GB)                     43 Reviews  512 MB RAM    \n",
       "KARBONN ALFA A90 3G (BLACK AND SILVER, 512 MB)   7 Reviews  256 MB RAM    \n",
       "\n",
       "                                                  Storage  \\\n",
       "Model                                                       \n",
       "LAVA Flair S1 (Champagne, 8 GB)                  8 GB ROM   \n",
       "LAVA A32 (White, 512 MB)                        512 MB RO   \n",
       "LAVA A59 (White, 4 GB)                           4 GB ROM   \n",
       "Panasonic T31 (White, 4 GB)                      4 GB ROM   \n",
       "KARBONN ALFA A90 3G (BLACK AND SILVER, 512 MB)  512 MB RO   \n",
       "\n",
       "                                                            Expandable  \\\n",
       "Model                                                                    \n",
       "LAVA Flair S1 (Champagne, 8 GB)                   xpandable Upto 32 GB   \n",
       "LAVA A32 (White, 512 MB)                         Expandable Upto 32 GB   \n",
       "LAVA A59 (White, 4 GB)                            xpandable Upto 32 GB   \n",
       "Panasonic T31 (White, 4 GB)                                        NaN   \n",
       "KARBONN ALFA A90 3G (BLACK AND SILVER, 512 MB)   Expandable Upto 32 GB   \n",
       "\n",
       "                                                                          Display  \\\n",
       "Model                                                                               \n",
       "LAVA Flair S1 (Champagne, 8 GB)                 11.43 cm (4.5 inch) FWVGA Display   \n",
       "LAVA A32 (White, 512 MB)                           10.16 cm (4 inch) WVGA Display   \n",
       "LAVA A59 (White, 4 GB)                          11.43 cm (4.5 inch) FWVGA Display   \n",
       "Panasonic T31 (White, 4 GB)                        6.1 cm (2.4 inch) WVGA Display   \n",
       "KARBONN ALFA A90 3G (BLACK AND SILVER, 512 MB)     10.16 cm (4 inch) WVGA Display   \n",
       "\n",
       "                                                                                Camera  \\\n",
       "Model                                                                                    \n",
       "LAVA Flair S1 (Champagne, 8 GB)                 3.2MP Rear Camera | 0.3MP Front Camera   \n",
       "LAVA A32 (White, 512 MB)                          2MP Rear Camera | 0.3MP Front Camera   \n",
       "LAVA A59 (White, 4 GB)                            5MP Rear Camera | 0.3MP Front Camera   \n",
       "Panasonic T31 (White, 4 GB)                       5MP Rear Camera | 0.3MP Front Camera   \n",
       "KARBONN ALFA A90 3G (BLACK AND SILVER, 512 MB)    2MP Rear Camera | 1.3MP Front Camera   \n",
       "\n",
       "                                                                Battery  \\\n",
       "Model                                                                     \n",
       "LAVA Flair S1 (Champagne, 8 GB)                 1750 mAh Li-Ion Battery   \n",
       "LAVA A32 (White, 512 MB)                        1500 mAh Li-Ion Battery   \n",
       "LAVA A59 (White, 4 GB)                          1750 mAh Li-Ion Battery   \n",
       "Panasonic T31 (White, 4 GB)                     1300 mAh Li-ion Battery   \n",
       "KARBONN ALFA A90 3G (BLACK AND SILVER, 512 MB)         1400 mAh Battery   \n",
       "\n",
       "                                                                   Processor  \\\n",
       "Model                                                                          \n",
       "LAVA Flair S1 (Champagne, 8 GB)                           MTK6572W Processor   \n",
       "LAVA A32 (White, 512 MB)                                    SC7715 Processor   \n",
       "LAVA A59 (White, 4 GB)                                     SC7731C Processor   \n",
       "Panasonic T31 (White, 4 GB)                     1 Year Manufacturer Warranty   \n",
       "KARBONN ALFA A90 3G (BLACK AND SILVER, 512 MB)  1 Year Manufacturer Warranty   \n",
       "\n",
       "                                                                                         Warranty  \\\n",
       "Model                                                                                               \n",
       "LAVA Flair S1 (Champagne, 8 GB)                                          Brand Warranty of 1 Year   \n",
       "LAVA A32 (White, 512 MB)                        Brand Warranty of 1 Year Available for Mobile ...   \n",
       "LAVA A59 (White, 4 GB)                                                   Brand Warranty of 1 Year   \n",
       "Panasonic T31 (White, 4 GB)                                          1 Year Manufacturer Warranty   \n",
       "KARBONN ALFA A90 3G (BLACK AND SILVER, 512 MB)                       1 Year Manufacturer Warranty   \n",
       "\n",
       "                                                 Price  \n",
       "Model                                                   \n",
       "LAVA Flair S1 (Champagne, 8 GB)                 ₹1,999  \n",
       "LAVA A32 (White, 512 MB)                        ₹1,999  \n",
       "LAVA A59 (White, 4 GB)                          ₹1,999  \n",
       "Panasonic T31 (White, 4 GB)                     ₹1,999  \n",
       "KARBONN ALFA A90 3G (BLACK AND SILVER, 512 MB)  ₹1,499  "
      ]
     },
     "execution_count": 4,
     "metadata": {},
     "output_type": "execute_result"
    }
   ],
   "source": [
    "df.head()"
   ]
  },
  {
   "cell_type": "code",
   "execution_count": 5,
   "id": "ba797409-2898-40e5-afe4-60ced4074b2a",
   "metadata": {},
   "outputs": [
    {
     "name": "stdout",
     "output_type": "stream",
     "text": [
      "<class 'pandas.core.frame.DataFrame'>\n",
      "Index: 2265 entries, LAVA Flair S1 (Champagne, 8 GB) to APPLE iPhone 13 Mini ((PRODUCT)RED, 256 GB)\n",
      "Data columns (total 12 columns):\n",
      " #   Column          Non-Null Count  Dtype  \n",
      "---  ------          --------------  -----  \n",
      " 0   Stars           2265 non-null   float64\n",
      " 1   Num_of_Ratings  2265 non-null   object \n",
      " 2   Reviews         2265 non-null   object \n",
      " 3   Ram             2265 non-null   object \n",
      " 4   Storage         2265 non-null   object \n",
      " 5   Expandable      1867 non-null   object \n",
      " 6   Display         2265 non-null   object \n",
      " 7   Camera          2265 non-null   object \n",
      " 8   Battery         2265 non-null   object \n",
      " 9   Processor       2265 non-null   object \n",
      " 10  Warranty        2264 non-null   object \n",
      " 11  Price           2265 non-null   object \n",
      "dtypes: float64(1), object(11)\n",
      "memory usage: 230.0+ KB\n"
     ]
    }
   ],
   "source": [
    "df.info()"
   ]
  },
  {
   "cell_type": "markdown",
   "id": "6b6d89c8-ea31-47aa-9c7e-a713a205d2fc",
   "metadata": {},
   "source": [
    "## Data Pre-processing"
   ]
  },
  {
   "cell_type": "markdown",
   "id": "0dacac01-70a9-44f2-a233-0ed46b2dc068",
   "metadata": {
    "tags": []
   },
   "source": [
    "### Basic Cleaning"
   ]
  },
  {
   "cell_type": "code",
   "execution_count": 6,
   "id": "eda0279a-5662-463e-ba8b-5bbf6220fd13",
   "metadata": {},
   "outputs": [
    {
     "data": {
      "text/plain": [
       "Index(['Stars', 'Num_of_Ratings', 'Reviews', 'Ram', 'Storage', 'Expandable',\n",
       "       'Display', 'Camera', 'Battery', 'Processor', 'Warranty', 'Price'],\n",
       "      dtype='object')"
      ]
     },
     "execution_count": 6,
     "metadata": {},
     "output_type": "execute_result"
    }
   ],
   "source": [
    "df.columns"
   ]
  },
  {
   "cell_type": "markdown",
   "id": "b525a2bc-bd23-4ecd-add4-11d7c472dcda",
   "metadata": {},
   "source": [
    "#### Possible New Columns"
   ]
  },
  {
   "cell_type": "markdown",
   "id": "67f230f7-df01-4acd-af3f-8a73b206019a",
   "metadata": {},
   "source": [
    "Resolution Type\n",
    "\n",
    "Battery Type\n",
    "\n",
    "Quadcore Processor\n",
    "\n",
    "Number of rear camera\n",
    "\n",
    "Number of front camera\n",
    "\n",
    "Storage Expanable or not\n",
    "\n",
    "Operating System\n",
    "\n",
    "Network Type\n",
    "\n",
    "Maybe Clockspeed\n",
    "\n",
    "Price Range\n",
    "\n",
    "Single Sim\n",
    "\n",
    "**Impossible**\n",
    "\n",
    "Release Date\n",
    "\n",
    "Weight\n",
    "\n",
    "Clock Speed\n",
    "\n",
    "4G\n",
    "\n",
    "3G\n",
    "\n"
   ]
  },
  {
   "cell_type": "code",
   "execution_count": 7,
   "id": "1f910811-022a-4c80-ac00-56657287c849",
   "metadata": {},
   "outputs": [],
   "source": [
    "#renaming\n",
    "df.rename(columns = {'Stars':'Ratings', 'Num_of_Ratings':'Number Of Ratings', 'Expandable':'Expandable Storage', 'Ram':'RAM'}, inplace = True)\n",
    "#new columns\n",
    "df[['Rear Camera','Front Camera']] = df.Camera.str.split(\"|\",expand=True)\n",
    "#Replacing Values\n",
    "df['Number Of Ratings'] = df['Number Of Ratings'].str.replace(',','')\n",
    "df['Number Of Ratings'] = df['Number Of Ratings'].str.replace('Ratings','')\n",
    "df['Reviews'] = df['Reviews'].str.replace(',','')\n",
    "df['Reviews'] = df['Reviews'].str.replace('Reviews','')\n",
    "df['RAM'] = df['RAM'].str.replace('512 MB RAM','0.512')\n",
    "df['RAM'] = df['RAM'].str.replace('512 MB RAM','0.512')\n",
    "df['RAM'] = df['RAM'].str.replace('256 MB RAM','0.256')\n",
    "df['RAM'] = df['RAM'].str.replace('768 MB RAM','0.768')\n",
    "df['RAM'] = df['RAM'].str.replace('768 MB RAM','0.768')"
   ]
  },
  {
   "cell_type": "code",
   "execution_count": 4,
   "id": "a5272fed-5961-4951-bde7-ac937ec955d7",
   "metadata": {
    "collapsed": true,
    "jupyter": {
     "outputs_hidden": true
    },
    "tags": []
   },
   "outputs": [
    {
     "ename": "AttributeError",
     "evalue": "Can only use .str accessor with string values!",
     "output_type": "error",
     "traceback": [
      "\u001b[1;31m---------------------------------------------------------------------------\u001b[0m",
      "\u001b[1;31mAttributeError\u001b[0m                            Traceback (most recent call last)",
      "Input \u001b[1;32mIn [4]\u001b[0m, in \u001b[0;36m<cell line: 10>\u001b[1;34m()\u001b[0m\n\u001b[0;32m      8\u001b[0m df[\u001b[38;5;124m'\u001b[39m\u001b[38;5;124mRAM\u001b[39m\u001b[38;5;124m'\u001b[39m] \u001b[38;5;241m=\u001b[39m df[\u001b[38;5;124m'\u001b[39m\u001b[38;5;124mRAM\u001b[39m\u001b[38;5;124m'\u001b[39m]\u001b[38;5;241m.\u001b[39mreplace(\u001b[38;5;124m'\u001b[39m\u001b[38;5;124m160 MB ROM \u001b[39m\u001b[38;5;124m'\u001b[39m,\u001b[38;5;124m'\u001b[39m\u001b[38;5;124m'\u001b[39m)\n\u001b[0;32m      9\u001b[0m df[\u001b[38;5;124m'\u001b[39m\u001b[38;5;124mRAM\u001b[39m\u001b[38;5;124m'\u001b[39m] \u001b[38;5;241m=\u001b[39m df[\u001b[38;5;124m'\u001b[39m\u001b[38;5;124mRAM\u001b[39m\u001b[38;5;124m'\u001b[39m]\u001b[38;5;241m.\u001b[39mreplace(\u001b[38;5;124m'\u001b[39m\u001b[38;5;124m140 MB ROM \u001b[39m\u001b[38;5;124m'\u001b[39m,\u001b[38;5;124m'\u001b[39m\u001b[38;5;124m'\u001b[39m)\n\u001b[1;32m---> 10\u001b[0m df[\u001b[38;5;124m'\u001b[39m\u001b[38;5;124mRAM\u001b[39m\u001b[38;5;124m'\u001b[39m] \u001b[38;5;241m=\u001b[39m \u001b[43mdf\u001b[49m\u001b[43m[\u001b[49m\u001b[38;5;124;43m'\u001b[39;49m\u001b[38;5;124;43mRAM\u001b[39;49m\u001b[38;5;124;43m'\u001b[39;49m\u001b[43m]\u001b[49m\u001b[38;5;241;43m.\u001b[39;49m\u001b[43mstr\u001b[49m\u001b[38;5;241m.\u001b[39mreplace(\u001b[38;5;124m'\u001b[39m\u001b[38;5;124m3 GB ROM \u001b[39m\u001b[38;5;124m'\u001b[39m,\u001b[38;5;124m'\u001b[39m\u001b[38;5;124m'\u001b[39m)\n\u001b[0;32m     11\u001b[0m df[\u001b[38;5;124m'\u001b[39m\u001b[38;5;124mRAM\u001b[39m\u001b[38;5;124m'\u001b[39m] \u001b[38;5;241m=\u001b[39m df[\u001b[38;5;124m'\u001b[39m\u001b[38;5;124mRAM\u001b[39m\u001b[38;5;124m'\u001b[39m]\u001b[38;5;241m.\u001b[39mstr\u001b[38;5;241m.\u001b[39mreplace(\u001b[38;5;124m'\u001b[39m\u001b[38;5;124m3 GB ROM \u001b[39m\u001b[38;5;124m'\u001b[39m,\u001b[38;5;124m'\u001b[39m\u001b[38;5;124m'\u001b[39m)\n\u001b[0;32m     12\u001b[0m df[\u001b[38;5;124m'\u001b[39m\u001b[38;5;124mRAM\u001b[39m\u001b[38;5;124m'\u001b[39m] \u001b[38;5;241m=\u001b[39m df[\u001b[38;5;124m'\u001b[39m\u001b[38;5;124mRAM\u001b[39m\u001b[38;5;124m'\u001b[39m]\u001b[38;5;241m.\u001b[39mstr\u001b[38;5;241m.\u001b[39mreplace(\u001b[38;5;124m'\u001b[39m\u001b[38;5;124m16 GB RO\u001b[39m\u001b[38;5;124m'\u001b[39m,\u001b[38;5;124m'\u001b[39m\u001b[38;5;124m'\u001b[39m)\n",
      "File \u001b[1;32m~\\anaconda3\\lib\\site-packages\\pandas\\core\\generic.py:5575\u001b[0m, in \u001b[0;36mNDFrame.__getattr__\u001b[1;34m(self, name)\u001b[0m\n\u001b[0;32m   5568\u001b[0m \u001b[38;5;28;01mif\u001b[39;00m (\n\u001b[0;32m   5569\u001b[0m     name \u001b[38;5;129;01mnot\u001b[39;00m \u001b[38;5;129;01min\u001b[39;00m \u001b[38;5;28mself\u001b[39m\u001b[38;5;241m.\u001b[39m_internal_names_set\n\u001b[0;32m   5570\u001b[0m     \u001b[38;5;129;01mand\u001b[39;00m name \u001b[38;5;129;01mnot\u001b[39;00m \u001b[38;5;129;01min\u001b[39;00m \u001b[38;5;28mself\u001b[39m\u001b[38;5;241m.\u001b[39m_metadata\n\u001b[0;32m   5571\u001b[0m     \u001b[38;5;129;01mand\u001b[39;00m name \u001b[38;5;129;01mnot\u001b[39;00m \u001b[38;5;129;01min\u001b[39;00m \u001b[38;5;28mself\u001b[39m\u001b[38;5;241m.\u001b[39m_accessors\n\u001b[0;32m   5572\u001b[0m     \u001b[38;5;129;01mand\u001b[39;00m \u001b[38;5;28mself\u001b[39m\u001b[38;5;241m.\u001b[39m_info_axis\u001b[38;5;241m.\u001b[39m_can_hold_identifiers_and_holds_name(name)\n\u001b[0;32m   5573\u001b[0m ):\n\u001b[0;32m   5574\u001b[0m     \u001b[38;5;28;01mreturn\u001b[39;00m \u001b[38;5;28mself\u001b[39m[name]\n\u001b[1;32m-> 5575\u001b[0m \u001b[38;5;28;01mreturn\u001b[39;00m \u001b[38;5;28;43mobject\u001b[39;49m\u001b[38;5;241;43m.\u001b[39;49m\u001b[38;5;21;43m__getattribute__\u001b[39;49m\u001b[43m(\u001b[49m\u001b[38;5;28;43mself\u001b[39;49m\u001b[43m,\u001b[49m\u001b[43m \u001b[49m\u001b[43mname\u001b[49m\u001b[43m)\u001b[49m\n",
      "File \u001b[1;32m~\\anaconda3\\lib\\site-packages\\pandas\\core\\accessor.py:182\u001b[0m, in \u001b[0;36mCachedAccessor.__get__\u001b[1;34m(self, obj, cls)\u001b[0m\n\u001b[0;32m    179\u001b[0m \u001b[38;5;28;01mif\u001b[39;00m obj \u001b[38;5;129;01mis\u001b[39;00m \u001b[38;5;28;01mNone\u001b[39;00m:\n\u001b[0;32m    180\u001b[0m     \u001b[38;5;66;03m# we're accessing the attribute of the class, i.e., Dataset.geo\u001b[39;00m\n\u001b[0;32m    181\u001b[0m     \u001b[38;5;28;01mreturn\u001b[39;00m \u001b[38;5;28mself\u001b[39m\u001b[38;5;241m.\u001b[39m_accessor\n\u001b[1;32m--> 182\u001b[0m accessor_obj \u001b[38;5;241m=\u001b[39m \u001b[38;5;28;43mself\u001b[39;49m\u001b[38;5;241;43m.\u001b[39;49m\u001b[43m_accessor\u001b[49m\u001b[43m(\u001b[49m\u001b[43mobj\u001b[49m\u001b[43m)\u001b[49m\n\u001b[0;32m    183\u001b[0m \u001b[38;5;66;03m# Replace the property with the accessor object. Inspired by:\u001b[39;00m\n\u001b[0;32m    184\u001b[0m \u001b[38;5;66;03m# https://www.pydanny.com/cached-property.html\u001b[39;00m\n\u001b[0;32m    185\u001b[0m \u001b[38;5;66;03m# We need to use object.__setattr__ because we overwrite __setattr__ on\u001b[39;00m\n\u001b[0;32m    186\u001b[0m \u001b[38;5;66;03m# NDFrame\u001b[39;00m\n\u001b[0;32m    187\u001b[0m \u001b[38;5;28mobject\u001b[39m\u001b[38;5;241m.\u001b[39m\u001b[38;5;21m__setattr__\u001b[39m(obj, \u001b[38;5;28mself\u001b[39m\u001b[38;5;241m.\u001b[39m_name, accessor_obj)\n",
      "File \u001b[1;32m~\\anaconda3\\lib\\site-packages\\pandas\\core\\strings\\accessor.py:177\u001b[0m, in \u001b[0;36mStringMethods.__init__\u001b[1;34m(self, data)\u001b[0m\n\u001b[0;32m    174\u001b[0m \u001b[38;5;28;01mdef\u001b[39;00m \u001b[38;5;21m__init__\u001b[39m(\u001b[38;5;28mself\u001b[39m, data):\n\u001b[0;32m    175\u001b[0m     \u001b[38;5;28;01mfrom\u001b[39;00m \u001b[38;5;21;01mpandas\u001b[39;00m\u001b[38;5;21;01m.\u001b[39;00m\u001b[38;5;21;01mcore\u001b[39;00m\u001b[38;5;21;01m.\u001b[39;00m\u001b[38;5;21;01marrays\u001b[39;00m\u001b[38;5;21;01m.\u001b[39;00m\u001b[38;5;21;01mstring_\u001b[39;00m \u001b[38;5;28;01mimport\u001b[39;00m StringDtype\n\u001b[1;32m--> 177\u001b[0m     \u001b[38;5;28mself\u001b[39m\u001b[38;5;241m.\u001b[39m_inferred_dtype \u001b[38;5;241m=\u001b[39m \u001b[38;5;28;43mself\u001b[39;49m\u001b[38;5;241;43m.\u001b[39;49m\u001b[43m_validate\u001b[49m\u001b[43m(\u001b[49m\u001b[43mdata\u001b[49m\u001b[43m)\u001b[49m\n\u001b[0;32m    178\u001b[0m     \u001b[38;5;28mself\u001b[39m\u001b[38;5;241m.\u001b[39m_is_categorical \u001b[38;5;241m=\u001b[39m is_categorical_dtype(data\u001b[38;5;241m.\u001b[39mdtype)\n\u001b[0;32m    179\u001b[0m     \u001b[38;5;28mself\u001b[39m\u001b[38;5;241m.\u001b[39m_is_string \u001b[38;5;241m=\u001b[39m \u001b[38;5;28misinstance\u001b[39m(data\u001b[38;5;241m.\u001b[39mdtype, StringDtype)\n",
      "File \u001b[1;32m~\\anaconda3\\lib\\site-packages\\pandas\\core\\strings\\accessor.py:231\u001b[0m, in \u001b[0;36mStringMethods._validate\u001b[1;34m(data)\u001b[0m\n\u001b[0;32m    228\u001b[0m inferred_dtype \u001b[38;5;241m=\u001b[39m lib\u001b[38;5;241m.\u001b[39minfer_dtype(values, skipna\u001b[38;5;241m=\u001b[39m\u001b[38;5;28;01mTrue\u001b[39;00m)\n\u001b[0;32m    230\u001b[0m \u001b[38;5;28;01mif\u001b[39;00m inferred_dtype \u001b[38;5;129;01mnot\u001b[39;00m \u001b[38;5;129;01min\u001b[39;00m allowed_types:\n\u001b[1;32m--> 231\u001b[0m     \u001b[38;5;28;01mraise\u001b[39;00m \u001b[38;5;167;01mAttributeError\u001b[39;00m(\u001b[38;5;124m\"\u001b[39m\u001b[38;5;124mCan only use .str accessor with string values!\u001b[39m\u001b[38;5;124m\"\u001b[39m)\n\u001b[0;32m    232\u001b[0m \u001b[38;5;28;01mreturn\u001b[39;00m inferred_dtype\n",
      "\u001b[1;31mAttributeError\u001b[0m: Can only use .str accessor with string values!"
     ]
    }
   ],
   "source": [
    "df = pd.read_csv('SP_Preprocessed.csv')\n",
    "df['RAM'] = df['RAM'].replace('GB RAM','')\n",
    "df['RAM'] = df['RAM'].replace('100 MB ROM ','')\n",
    "df['RAM'] = df['RAM'].replace('xpandable Upto 32 G','')\n",
    "df['RAM'] = df['RAM'].replace('Expandable Upto 16 G','')\n",
    "df['RAM'] = df['RAM'].replace(' RAM ','')\n",
    "df['RAM'] = df['RAM'].replace('134 MB ROM ','')\n",
    "df['RAM'] = df['RAM'].replace('160 MB ROM ','')\n",
    "df['RAM'] = df['RAM'].replace('140 MB ROM ','')\n",
    "df['RAM'] = df['RAM'].replace('3 GB ROM ','')\n",
    "df['RAM'] = df['RAM'].replace('3 GB ROM ','')\n",
    "df['RAM'] = df['RAM'].replace('16 GB RO','')\n",
    "df['RAM'] = df['RAM'].replace('8 GB RO','')\n",
    "df['RAM'] = df['RAM'].str.replace('32 GB RO','')\n",
    "df['RAM'] = df['RAM'].str.replace('512 GB RO','')\n",
    "df['RAM'] = df['RAM'].str.replace('8 GB RO','')\n",
    "df['RAM'] = df['RAM'].str.replace('256 GB RO','')\n",
    "df['RAM'] = df['RAM'].str.replace('64 GB RO','')\n",
    "df['RAM'] = df['RAM'].str.replace('128 GB RO','')\n",
    "df['RAM'] = df['RAM'].str.replace('E','')\n",
    "df['RAM'] = df['RAM'].str.replace('MB','')\n",
    "df['RAM'] = df['RAM'].str.replace('1 TB RO','')\n"
   ]
  },
  {
   "cell_type": "code",
   "execution_count": 13,
   "id": "068762c3-24d1-41d5-97c4-d72bcadc7f07",
   "metadata": {},
   "outputs": [],
   "source": [
    "df['Storage'] = df['Storage'].str.replace('GB ROM','')\n",
    "df['Storage'] = df['Storage'].str.replace('MB RO','')\n",
    "df['Storage'] = df['Storage'].str.replace('Expandable','')\n",
    "df['Storage'] = df['Storage'].str.replace('Expandabl','')\n",
    "df['Storage'] = df['Storage'].str.replace('GB R','')\n",
    "df['Storage'] = df['Storage'].str.replace('TB ROM','')\n",
    "df['Storage'] = df['Storage'].str.replace('M','')\n",
    "df['Storage'] = df['Storage'].str.replace('O','')\n",
    "df['Storage'] = df['Storage'].str.replace('GB','')"
   ]
  },
  {
   "cell_type": "code",
   "execution_count": 22,
   "id": "aad751a6-7a72-4ef5-b3a5-6b04f0ab50f7",
   "metadata": {},
   "outputs": [],
   "source": [
    "df['Expandable Storage'] = df['Expandable Storage'].str.replace('Expandable Upto','')\n",
    "df['Expandable Storage'] = df['Expandable Storage'].str.replace('xpandable Upto','')\n",
    "df['Expandable Storage'] = df['Expandable Storage'].str.replace('GB','')\n",
    "df['Expandable Storage'] = df['Expandable Storage'].str.replace('to','')"
   ]
  },
  {
   "cell_type": "code",
   "execution_count": 106,
   "id": "7113159e-8f31-4c69-af11-e61f90a4f1da",
   "metadata": {},
   "outputs": [
    {
     "data": {
      "text/plain": [
       "4        486\n",
       "3        440\n",
       "2        407\n",
       "1        303\n",
       "6        274\n",
       "8        133\n",
       "0.512    116\n",
       ".256      27\n",
       "1.5       15\n",
       "12         7\n",
       "0.768      6\n",
       "32         6\n",
       "16         3\n",
       "0.5        2\n",
       ".512       2\n",
       ".256       2\n",
       "64         2\n",
       " 32        1\n",
       "3          1\n",
       "Name: RAM, dtype: int64"
      ]
     },
     "execution_count": 106,
     "metadata": {},
     "output_type": "execute_result"
    }
   ],
   "source": [
    "df['RAM'].value_counts()\n"
   ]
  },
  {
   "cell_type": "code",
   "execution_count": 105,
   "id": "0a94428d-0c2c-4a68-9660-0d7024dd6092",
   "metadata": {},
   "outputs": [
    {
     "name": "stderr",
     "output_type": "stream",
     "text": [
      "C:\\Users\\richa\\AppData\\Local\\Temp\\ipykernel_1856\\537782980.py:1: FutureWarning: The default value of regex will change from True to False in a future version.\n",
      "  df['RAM'] = df['RAM'].str.replace('..512','.512')\n"
     ]
    }
   ],
   "source": [
    "df['RAM'] = df['RAM'].str.replace('..512','.512')"
   ]
  },
  {
   "cell_type": "code",
   "execution_count": 108,
   "id": "b47e2d49-300a-448a-ba19-be1f23f83c12",
   "metadata": {},
   "outputs": [],
   "source": [
    "df['RAM'] = pd.to_numeric(df['RAM'])"
   ]
  },
  {
   "cell_type": "code",
   "execution_count": 39,
   "id": "881c3bd5-9ef4-4d5a-b1b3-a88be71884d0",
   "metadata": {},
   "outputs": [],
   "source": [
    "df[['Display Size','Display Type']] = df.Display.str.split(\")\",expand=True)"
   ]
  },
  {
   "cell_type": "code",
   "execution_count": 43,
   "id": "7aff7bb2-d31b-440a-8cf9-904134ded7c6",
   "metadata": {},
   "outputs": [],
   "source": [
    "df['Display Size'] = df['Display Size'].str.replace( 'inch','')"
   ]
  },
  {
   "cell_type": "code",
   "execution_count": 45,
   "id": "5c19b836-cec2-4c51-a20f-7ad9b7ecf2ba",
   "metadata": {},
   "outputs": [],
   "source": [
    "df.rename(columns = {'Display Size':'Display_Size'}, inplace = True)"
   ]
  },
  {
   "cell_type": "code",
   "execution_count": 46,
   "id": "a91b8cbe-c693-4e49-8dbf-9f5f82c92436",
   "metadata": {},
   "outputs": [],
   "source": [
    "df[['Display_Size','Useless']] = df.Display_Size.str.split(\"(\",expand=True)"
   ]
  },
  {
   "cell_type": "code",
   "execution_count": 54,
   "id": "71c34d03-cec4-41d6-bce8-3f657c1eaead",
   "metadata": {},
   "outputs": [],
   "source": [
    "df.drop(['Useless'], axis=1, inplace=True)"
   ]
  },
  {
   "cell_type": "code",
   "execution_count": 73,
   "id": "121bcc58-1888-4e60-94be-c956f67e0603",
   "metadata": {},
   "outputs": [],
   "source": [
    "df[['Battery_(mAh)','Battery_Type']] = df.Battery.str.split(\"mAh\",expand=True)"
   ]
  },
  {
   "cell_type": "code",
   "execution_count": 74,
   "id": "3bb0875f-76dd-454c-b776-b68361bf3620",
   "metadata": {},
   "outputs": [],
   "source": [
    "df.drop(['Battery'], axis=1, inplace=True)"
   ]
  },
  {
   "cell_type": "code",
   "execution_count": 77,
   "id": "96057a52-501d-4142-b305-e5b19ddfc876",
   "metadata": {},
   "outputs": [],
   "source": [
    "df['Battery_(mAh)'] = df['Battery_(mAh)'].str.replace('ARM Cortex-A7 Processor','')\n",
    "df['Battery_(mAh)'] = df['Battery_(mAh)'].str.replace('A13 Bionic Chip Processor','')\n",
    "df['Battery_(mAh)'] = df['Battery_(mAh)'].str.replace('1 Year Manufacturer Warranty','')"
   ]
  },
  {
   "cell_type": "code",
   "execution_count": 102,
   "id": "60e571ff-e425-4fe0-9e4c-8a5e67fcff24",
   "metadata": {},
   "outputs": [],
   "source": [
    "df['Battery_Type'] = df['Battery_Type'].replace({' Li-Ion Battery': 'Lithium-Ion', ' Li-ion Battery': 'Lithium-Ion', ' Lithium-ion Battery': 'Lithium-Ion',\n",
    "                                                 ' Lithium ion Battery': 'Lithium-Ion', ' Li-ion Battery Battery': 'Lithium-Ion', \n",
    "                                                 ' Lithium Ion Battery': 'Lithium-Ion'})"
   ]
  },
  {
   "cell_type": "code",
   "execution_count": 115,
   "id": "27263bf2-f1ce-445b-a3a7-241c3651048c",
   "metadata": {},
   "outputs": [],
   "source": [
    "df['Battery_Type'] = df['Battery_Type'].replace({' Li-Polymer Battery': 'Lithium-Polymer', ' Polymer Battery': 'Lithium-Polymer', ' Li-polymer Battery': 'Lithium-Polymer',\n",
    "                            ' Lithium Polymer Battery': 'Lithium-Polymer', ' Li Polymer Battery' : 'Lithium-Polymer', ' Lithium-polymer Battery' : 'Lithium-Polymer', \n",
    "                           ' Li-Poly Battery' : 'Lithium-Polymer', ' LiPo Battery' : 'Lithium-Polymer', ' Lithium-Ploymer Battery' : 'Lithium-Polymer',\n",
    "                           ' Lithium polymer Battery' : 'Lithium-Polymer', ' Li-Polymer Battery Battery' : 'Lithium-Polymer',\n",
    "                                                ' Li-Po Battery' : 'Lithium-Polymer'})"
   ]
  },
  {
   "cell_type": "code",
   "execution_count": 5,
   "id": "704f7617-9205-4854-b9b1-551e604e2851",
   "metadata": {},
   "outputs": [],
   "source": [
    "df['Battery_Type'] = df['Battery_Type'].replace({' Li-ion Polymer Battery': 'Li-ion Polymer', ' Lithium-ion Polymer Battery': 'Li-ion Polymer', ' Li-Ion Polymer Battery': 'Li-ion Polymer',\n",
    "                            ' Lithium Polymer Battery': 'Li-ion Polymer', '' : 'Li-ion Polymer', ' Lithium Ion Polymer Battery' : 'Li-ion Polymer', \n",
    "                           ' Lithium-Ion Polymer Battery' : 'Li-ion Polymer', ' LiPo Battery' : 'Lithium-Polymer', ' Lithium-Ploymer Battery' : 'Lithium-Polymer',\n",
    "                           ' Li-ion Polymer Battery Battery' : 'Lithium-Polymer',})"
   ]
  },
  {
   "cell_type": "code",
   "execution_count": 19,
   "id": "da181b3c-2f26-4fb2-adc0-34a6d22a4c70",
   "metadata": {},
   "outputs": [],
   "source": [
    "df.drop(['Unnamed: 16'], axis=1, inplace=True)"
   ]
  },
  {
   "cell_type": "code",
   "execution_count": 27,
   "id": "02d42265-00f6-4440-956b-9aebad40510d",
   "metadata": {},
   "outputs": [],
   "source": [
    "df[['Rear Camera1',\n",
    "       'Rear Camera2', 'Rear Camera3', 'Rear Camera4', 'Rear Camera5']] = df[['Rear Camera1',\n",
    "       'Rear Camera2', 'Rear Camera3', 'Rear Camera4', 'Rear Camera5']].fillna(value=0)"
   ]
  },
  {
   "cell_type": "code",
   "execution_count": 30,
   "id": "eaaaf282-5a8b-459a-8523-e9407bc55a3a",
   "metadata": {},
   "outputs": [],
   "source": [
    "df['Rear Camera1'] = df['Rear Camera1'].str.replace(' Primary Camera ','')"
   ]
  },
  {
   "cell_type": "code",
   "execution_count": 25,
   "id": "e7d8625a-801b-4926-b539-47efe76f3eef",
   "metadata": {},
   "outputs": [],
   "source": [
    "df['Rear Camera5'] = df['Rear Camera5'].str.replace(\"MP \", \"\")"
   ]
  },
  {
   "cell_type": "code",
   "execution_count": 26,
   "id": "03a8bf38-5aec-475b-884f-88428882715b",
   "metadata": {},
   "outputs": [
    {
     "data": {
      "text/plain": [
       "array(['0', ' 2'], dtype=object)"
      ]
     },
     "execution_count": 26,
     "metadata": {},
     "output_type": "execute_result"
    }
   ],
   "source": [
    "df['Rear Camera5'].unique()"
   ]
  },
  {
   "cell_type": "code",
   "execution_count": 6,
   "id": "ee7a5ba1-76c1-4386-9de9-8511f5740f83",
   "metadata": {},
   "outputs": [],
   "source": [
    "df['Front Camera1'] = df['Front Camera1'].fillna(df['Front Camera1'].value_counts().index[0])"
   ]
  },
  {
   "cell_type": "code",
   "execution_count": 13,
   "id": "719c3a4e-af85-4f05-99b2-f6b7f6c6021e",
   "metadata": {},
   "outputs": [],
   "source": [
    "df['Front Camera1'] = df['Front Camera1'].str.replace('MP','')"
   ]
  },
  {
   "cell_type": "code",
   "execution_count": 18,
   "id": "ba67a48b-74d9-44d7-bd02-e8ed7cc9dc38",
   "metadata": {},
   "outputs": [],
   "source": [
    "df['Front Camera2'] = df['Front Camera2'].str.replace('MP Dual Front Camera','')"
   ]
  },
  {
   "cell_type": "code",
   "execution_count": 21,
   "id": "1e1547e8-3807-4553-b891-dc7957fe9868",
   "metadata": {},
   "outputs": [],
   "source": [
    "df['Front Camera2'] = df['Front Camera2'].fillna(0)"
   ]
  },
  {
   "cell_type": "code",
   "execution_count": 7,
   "id": "6c8f4457-1404-4b39-8ee4-0381a6fd91d3",
   "metadata": {},
   "outputs": [],
   "source": [
    "df['Rear Camera4'] = df['Rear Camera4'].fillna(0)"
   ]
  },
  {
   "cell_type": "code",
   "execution_count": 5,
   "id": "df3dc364-2d4a-4bed-aa50-91a1b06e3066",
   "metadata": {},
   "outputs": [
    {
     "data": {
      "text/plain": [
       " HD+ Display                         634\n",
       " Full HD+ Display                    431\n",
       " HD Display                          368\n",
       " Display                             267\n",
       " FWVGA Display                       159\n",
       " Full HD Display                     135\n",
       " WVGA Display                        110\n",
       " Full HD+ AMOLED Display              34\n",
       " quarter HD Display                   31\n",
       " HVGA Display                         22\n",
       " Super Retina XDR Display             19\n",
       " Full HD+ Super AMOLED Display        16\n",
       " Quad HD Display                       9\n",
       " Retina HD Display                     9\n",
       " Quad HD+ Display                      5\n",
       " FWVGA+ Display                        4\n",
       " QVGA Display                          3\n",
       " NA Display                            2\n",
       " Retina Display                        2\n",
       " Full HD+ E3 Super AMOLED Display      2\n",
       " Liquid Retina HD Display              2\n",
       "Name: Display Type, dtype: int64"
      ]
     },
     "execution_count": 5,
     "metadata": {},
     "output_type": "execute_result"
    }
   ],
   "source": [
    "df['Display Type'].value_counts()"
   ]
  },
  {
   "cell_type": "code",
   "execution_count": 63,
   "id": "27e7135d-467b-4137-81c8-a962daf9fa83",
   "metadata": {},
   "outputs": [
    {
     "data": {
      "text/plain": [
       "0.0    2260\n",
       "1.0       4\n",
       "Name: FWVGA+ Display, dtype: int64"
      ]
     },
     "execution_count": 63,
     "metadata": {},
     "output_type": "execute_result"
    }
   ],
   "source": [
    "df['FWVGA+ Display'].value_counts()"
   ]
  },
  {
   "cell_type": "code",
   "execution_count": 52,
   "id": "3eed2b92-ba59-4e43-9018-d0bedbbfa27f",
   "metadata": {},
   "outputs": [
    {
     "data": {
      "text/plain": [
       "array([' FWVGA Display', ' WVGA Display', ' HVGA Display', ' Display',\n",
       "       ' HD Display', ' Full HD Display', ' quarter HD Display',\n",
       "       ' HD+ Display', ' NA Display', ' FWVGA+ Display',\n",
       "       ' Full HD+ Display', ' QVGA Display', ' Quad HD+ Display',\n",
       "       ' Quad HD Display', ' Full HD+ AMOLED Display',\n",
       "       ' Full HD+ Super AMOLED Display', ' Retina Display',\n",
       "       ' Retina HD Display', ' Super Retina XDR Display',\n",
       "       ' Full HD+ E3 Super AMOLED Display', ' Liquid Retina HD Display'],\n",
       "      dtype=object)"
      ]
     },
     "execution_count": 52,
     "metadata": {},
     "output_type": "execute_result"
    }
   ],
   "source": [
    "df['Display Type'].unique()"
   ]
  },
  {
   "cell_type": "code",
   "execution_count": 53,
   "id": "a37007b7-b3a7-4bec-b311-9d4fb7761a51",
   "metadata": {},
   "outputs": [],
   "source": [
    "df.loc[df[\"Display Type\"] == \" Quad HD Display\", \"Quad HD Display\"] = 1"
   ]
  },
  {
   "cell_type": "code",
   "execution_count": 12,
   "id": "e24b495e-74f7-4f00-9b58-c45324b2cb2f",
   "metadata": {
    "jupyter": {
     "source_hidden": true
    },
    "tags": []
   },
   "outputs": [],
   "source": [
    "#df.loc[df['Display Type'].str.contains(' HVGA Display'), 'HVGA Display'] = 1"
   ]
  },
  {
   "cell_type": "code",
   "execution_count": 59,
   "id": "52d335f7-2f2d-4164-a832-00d7e6a392c4",
   "metadata": {},
   "outputs": [],
   "source": [
    "df[['FWVGA Display', 'WVGA Display', 'HVGA Display', 'Normal Display',\n",
    "       'HD Display', 'Full HD Display', 'quarter HD Display',\n",
    "       'HD+ Display', 'NA Display', 'FWVGA+ Display',\n",
    "       'Full HD+ Display', 'QVGA Display', 'Quad HD+ Display',\n",
    "       'Quad HD Display', 'Full HD+ AMOLED Display',\n",
    "       'Full HD+ Super AMOLED Display', 'Retina Display',\n",
    "       'Retina HD Display', 'Super Retina XDR Display',\n",
    "       'Full HD+ E3 Super AMOLED Display', 'Liquid Retina HD Display']] = df[['FWVGA Display', 'WVGA Display', 'HVGA Display', 'Normal Display',\n",
    "       'HD Display', 'Full HD Display', 'quarter HD Display',\n",
    "       'HD+ Display', 'NA Display', 'FWVGA+ Display',\n",
    "       'Full HD+ Display', 'QVGA Display', 'Quad HD+ Display',\n",
    "       'Quad HD Display', 'Full HD+ AMOLED Display',\n",
    "       'Full HD+ Super AMOLED Display', 'Retina Display',\n",
    "       'Retina HD Display', 'Super Retina XDR Display',\n",
    "       'Full HD+ E3 Super AMOLED Display', 'Liquid Retina HD Display']].fillna(value=0)\n"
   ]
  },
  {
   "cell_type": "code",
   "execution_count": 85,
   "id": "0a4bed2a-aa6b-4132-a5b9-76973c255e98",
   "metadata": {},
   "outputs": [
    {
     "data": {
      "text/plain": [
       "False    2122\n",
       "True      142\n",
       "Name: Model, dtype: int64"
      ]
     },
     "execution_count": 85,
     "metadata": {},
     "output_type": "execute_result"
    }
   ],
   "source": [
    "df['Model'].str.contains(\"5G\").value_counts()"
   ]
  },
  {
   "cell_type": "code",
   "execution_count": 82,
   "id": "269555ff-2172-4c5c-8150-44e5b3213808",
   "metadata": {},
   "outputs": [],
   "source": [
    "df.loc[df['Model'].str.contains('5G'), '5G'] = 1"
   ]
  },
  {
   "cell_type": "code",
   "execution_count": 89,
   "id": "57cfdfd7-1d10-48a0-b47b-7d543dce2923",
   "metadata": {},
   "outputs": [
    {
     "data": {
      "text/plain": [
       "0.0    2122\n",
       "1.0     142\n",
       "Name: 5G, dtype: int64"
      ]
     },
     "execution_count": 89,
     "metadata": {},
     "output_type": "execute_result"
    }
   ],
   "source": [
    "df['5G'].value_counts()"
   ]
  },
  {
   "cell_type": "code",
   "execution_count": 88,
   "id": "993e392a-e3a1-46a5-97f5-94017f8a6c4b",
   "metadata": {},
   "outputs": [],
   "source": [
    "df[['5G']] = df[['5G']].fillna(value=0) "
   ]
  },
  {
   "cell_type": "code",
   "execution_count": 4,
   "id": "90ecee0d-f443-420b-9281-0649704d8c72",
   "metadata": {},
   "outputs": [],
   "source": [
    "df[['Number of Sim Slots']] = df[['Number of Sim Slots']].fillna(value=2)"
   ]
  },
  {
   "cell_type": "code",
   "execution_count": 3,
   "id": "2da57c78-8ee5-4a1e-9d16-eaf24de04f3a",
   "metadata": {},
   "outputs": [],
   "source": [
    "df[\"Operating System\"].fillna(\"Android\", inplace = True)"
   ]
  },
  {
   "cell_type": "code",
   "execution_count": 5,
   "id": "6500cd4d-e724-462d-accf-8fcb7f599eed",
   "metadata": {},
   "outputs": [
    {
     "data": {
      "text/plain": [
       "array(['Android', 'Windows', 'iOS'], dtype=object)"
      ]
     },
     "execution_count": 5,
     "metadata": {},
     "output_type": "execute_result"
    }
   ],
   "source": [
    "df['Operating System'].unique()"
   ]
  },
  {
   "cell_type": "code",
   "execution_count": 6,
   "id": "36b4f07e-aa74-41de-867c-5ff31bb47e60",
   "metadata": {},
   "outputs": [],
   "source": [
    "df.loc[df[\"Operating System\"] == \"Android\", \"Android\"] = 1\n",
    "df.loc[df[\"Operating System\"] == \"Windows\", \"Windows\"] = 1\n",
    "df.loc[df[\"Operating System\"] == \"iOS\", \"iOS\"] = 1"
   ]
  },
  {
   "cell_type": "code",
   "execution_count": 7,
   "id": "5dbd2c49-105c-40a6-aab3-c53ce556803c",
   "metadata": {},
   "outputs": [],
   "source": [
    "df[[\"Android\", \"Windows\", \"iOS\"]] = df[[\"Android\", \"Windows\", \"iOS\"]].fillna(value=0)"
   ]
  },
  {
   "cell_type": "code",
   "execution_count": 2,
   "id": "bed6b485-4bf2-476a-8faf-4b9c3975494b",
   "metadata": {},
   "outputs": [],
   "source": [
    "df = pd.read_csv(r\"C:\\PROJECT\\SP_Preprocessed.csv\")"
   ]
  },
  {
   "cell_type": "code",
   "execution_count": 4,
   "id": "e85522b7-cd94-481d-98d0-162afb8ef778",
   "metadata": {},
   "outputs": [],
   "source": [
    "df = df.drop_duplicates(subset=['Model'])"
   ]
  },
  {
   "cell_type": "code",
   "execution_count": 6,
   "id": "73cc3d8c-115f-4ce7-b39f-869c4d9de891",
   "metadata": {},
   "outputs": [],
   "source": [
    "df.set_index('Model', inplace=True)"
   ]
  },
  {
   "cell_type": "code",
   "execution_count": 4,
   "id": "b744ad9b-057e-4fba-ad09-f810f5bf2bd8",
   "metadata": {},
   "outputs": [
    {
     "name": "stdout",
     "output_type": "stream",
     "text": [
      "Operating System                     object\n",
      "Colour                               object\n",
      "Brands                               object\n",
      "Number of Sim Slots                   int64\n",
      "Ratings                             float64\n",
      "Number Of Ratings                     int64\n",
      "Reviews                               int64\n",
      "RAM                                 float64\n",
      "Storage                             float64\n",
      "Expandable Storage                    int64\n",
      "Expandable or Not                     int64\n",
      "Processor                            object\n",
      "Warranty                            float64\n",
      "Price                                 int64\n",
      "Front Camera1                       float64\n",
      "Front Camera2                         int64\n",
      "Number of Front Cameras               int64\n",
      "Display_Size                        float64\n",
      "Display Type                         object\n",
      "Battery_(mAh)                       float64\n",
      "Battery_Type                         object\n",
      "Rear Camera1                        float64\n",
      "Rear Camera2                        float64\n",
      "Rear Camera3                        float64\n",
      "Rear Camera4                          int64\n",
      "Rear Camera5                          int64\n",
      "Number Of Rear Cameras                int64\n",
      "FWVGA Display                         int64\n",
      "WVGA Display                          int64\n",
      "HVGA Display                          int64\n",
      "Normal Display                        int64\n",
      "HD Display                            int64\n",
      "Full HD Display                       int64\n",
      "quarter HD Display                    int64\n",
      "HD+ Display                           int64\n",
      "NA Display                            int64\n",
      "FWVGA+ Display                        int64\n",
      "Full HD+ Display                      int64\n",
      "QVGA Display                          int64\n",
      "Quad HD+ Display                      int64\n",
      "Full HD+ AMOLED Display               int64\n",
      "Full HD+ Super AMOLED Display         int64\n",
      "Retina Display                        int64\n",
      "Retina HD Display                     int64\n",
      "Super Retina XDR Display              int64\n",
      "Full HD+ E3 Super AMOLED Display      int64\n",
      "Liquid Retina HD Display              int64\n",
      "Quad HD Display                       int64\n",
      "5G                                    int64\n",
      "Android                               int32\n",
      "Windows                               int32\n",
      "iOS                                   int32\n",
      "dtype: object\n"
     ]
    }
   ],
   "source": [
    "convert_dict = {'Android': int,\n",
    "                'Windows': int,\n",
    "               'iOS': int}  \n",
    "  \n",
    "df = df.astype(convert_dict)  \n",
    "print(df.dtypes)"
   ]
  },
  {
   "cell_type": "markdown",
   "id": "9181d0a4-d899-44a7-99f9-b04a246f9a93",
   "metadata": {},
   "source": [
    "## RUN HERE"
   ]
  },
  {
   "cell_type": "code",
   "execution_count": 2,
   "id": "e318d9ed-bb7c-4d5d-b172-dadd7a351675",
   "metadata": {},
   "outputs": [],
   "source": [
    "import numpy as np\n",
    "import pandas as pd\n",
    "import matplotlib.pyplot as plt\n",
    "import re\n",
    "import warnings\n",
    "warnings.filterwarnings('ignore')"
   ]
  },
  {
   "cell_type": "code",
   "execution_count": 3,
   "id": "cc71b600-5c08-404b-8bf1-122e711ac8d9",
   "metadata": {},
   "outputs": [
    {
     "data": {
      "text/html": [
       "<div>\n",
       "<style scoped>\n",
       "    .dataframe tbody tr th:only-of-type {\n",
       "        vertical-align: middle;\n",
       "    }\n",
       "\n",
       "    .dataframe tbody tr th {\n",
       "        vertical-align: top;\n",
       "    }\n",
       "\n",
       "    .dataframe thead th {\n",
       "        text-align: right;\n",
       "    }\n",
       "</style>\n",
       "<table border=\"1\" class=\"dataframe\">\n",
       "  <thead>\n",
       "    <tr style=\"text-align: right;\">\n",
       "      <th></th>\n",
       "      <th>Operating System</th>\n",
       "      <th>Brands</th>\n",
       "      <th>Number of Sim Slots</th>\n",
       "      <th>Ratings</th>\n",
       "      <th>Number Of Ratings</th>\n",
       "      <th>Reviews</th>\n",
       "      <th>RAM</th>\n",
       "      <th>Storage</th>\n",
       "      <th>Expandable Storage</th>\n",
       "      <th>Expandable or Not</th>\n",
       "      <th>...</th>\n",
       "      <th>Retina Display</th>\n",
       "      <th>Retina HD Display</th>\n",
       "      <th>Super Retina XDR Display</th>\n",
       "      <th>Full HD+ E3 Super AMOLED Display</th>\n",
       "      <th>Liquid Retina HD Display</th>\n",
       "      <th>Quad HD Display</th>\n",
       "      <th>5G</th>\n",
       "      <th>Android</th>\n",
       "      <th>Windows</th>\n",
       "      <th>iOS</th>\n",
       "    </tr>\n",
       "    <tr>\n",
       "      <th>Model</th>\n",
       "      <th></th>\n",
       "      <th></th>\n",
       "      <th></th>\n",
       "      <th></th>\n",
       "      <th></th>\n",
       "      <th></th>\n",
       "      <th></th>\n",
       "      <th></th>\n",
       "      <th></th>\n",
       "      <th></th>\n",
       "      <th></th>\n",
       "      <th></th>\n",
       "      <th></th>\n",
       "      <th></th>\n",
       "      <th></th>\n",
       "      <th></th>\n",
       "      <th></th>\n",
       "      <th></th>\n",
       "      <th></th>\n",
       "      <th></th>\n",
       "      <th></th>\n",
       "    </tr>\n",
       "  </thead>\n",
       "  <tbody>\n",
       "    <tr>\n",
       "      <th>LAVA Flair S1</th>\n",
       "      <td>Android</td>\n",
       "      <td>LAVA</td>\n",
       "      <td>2</td>\n",
       "      <td>3.5</td>\n",
       "      <td>112</td>\n",
       "      <td>15</td>\n",
       "      <td>0.512</td>\n",
       "      <td>8.000</td>\n",
       "      <td>32</td>\n",
       "      <td>1</td>\n",
       "      <td>...</td>\n",
       "      <td>0</td>\n",
       "      <td>0</td>\n",
       "      <td>0</td>\n",
       "      <td>0</td>\n",
       "      <td>0</td>\n",
       "      <td>0</td>\n",
       "      <td>0</td>\n",
       "      <td>1</td>\n",
       "      <td>0</td>\n",
       "      <td>0</td>\n",
       "    </tr>\n",
       "    <tr>\n",
       "      <th>LAVA A32</th>\n",
       "      <td>Android</td>\n",
       "      <td>LAVA</td>\n",
       "      <td>2</td>\n",
       "      <td>3.3</td>\n",
       "      <td>229</td>\n",
       "      <td>24</td>\n",
       "      <td>0.256</td>\n",
       "      <td>0.512</td>\n",
       "      <td>32</td>\n",
       "      <td>1</td>\n",
       "      <td>...</td>\n",
       "      <td>0</td>\n",
       "      <td>0</td>\n",
       "      <td>0</td>\n",
       "      <td>0</td>\n",
       "      <td>0</td>\n",
       "      <td>0</td>\n",
       "      <td>0</td>\n",
       "      <td>1</td>\n",
       "      <td>0</td>\n",
       "      <td>0</td>\n",
       "    </tr>\n",
       "    <tr>\n",
       "      <th>LAVA A59</th>\n",
       "      <td>Android</td>\n",
       "      <td>LAVA</td>\n",
       "      <td>2</td>\n",
       "      <td>3.5</td>\n",
       "      <td>410</td>\n",
       "      <td>51</td>\n",
       "      <td>0.512</td>\n",
       "      <td>4.000</td>\n",
       "      <td>32</td>\n",
       "      <td>1</td>\n",
       "      <td>...</td>\n",
       "      <td>0</td>\n",
       "      <td>0</td>\n",
       "      <td>0</td>\n",
       "      <td>0</td>\n",
       "      <td>0</td>\n",
       "      <td>0</td>\n",
       "      <td>0</td>\n",
       "      <td>1</td>\n",
       "      <td>0</td>\n",
       "      <td>0</td>\n",
       "    </tr>\n",
       "    <tr>\n",
       "      <th>Panasonic T31</th>\n",
       "      <td>Android</td>\n",
       "      <td>Panasonic</td>\n",
       "      <td>2</td>\n",
       "      <td>3.8</td>\n",
       "      <td>287</td>\n",
       "      <td>43</td>\n",
       "      <td>0.512</td>\n",
       "      <td>4.000</td>\n",
       "      <td>0</td>\n",
       "      <td>0</td>\n",
       "      <td>...</td>\n",
       "      <td>0</td>\n",
       "      <td>0</td>\n",
       "      <td>0</td>\n",
       "      <td>0</td>\n",
       "      <td>0</td>\n",
       "      <td>0</td>\n",
       "      <td>0</td>\n",
       "      <td>1</td>\n",
       "      <td>0</td>\n",
       "      <td>0</td>\n",
       "    </tr>\n",
       "    <tr>\n",
       "      <th>KARBONN ALFA A90 3G</th>\n",
       "      <td>Android</td>\n",
       "      <td>KARBONN</td>\n",
       "      <td>2</td>\n",
       "      <td>2.8</td>\n",
       "      <td>45</td>\n",
       "      <td>7</td>\n",
       "      <td>0.256</td>\n",
       "      <td>0.512</td>\n",
       "      <td>32</td>\n",
       "      <td>1</td>\n",
       "      <td>...</td>\n",
       "      <td>0</td>\n",
       "      <td>0</td>\n",
       "      <td>0</td>\n",
       "      <td>0</td>\n",
       "      <td>0</td>\n",
       "      <td>0</td>\n",
       "      <td>0</td>\n",
       "      <td>1</td>\n",
       "      <td>0</td>\n",
       "      <td>0</td>\n",
       "    </tr>\n",
       "  </tbody>\n",
       "</table>\n",
       "<p>5 rows × 50 columns</p>\n",
       "</div>"
      ],
      "text/plain": [
       "                     Operating System     Brands  Number of Sim Slots  \\\n",
       "Model                                                                   \n",
       "LAVA Flair S1                 Android       LAVA                    2   \n",
       "LAVA A32                      Android       LAVA                    2   \n",
       "LAVA A59                      Android       LAVA                    2   \n",
       "Panasonic T31                 Android  Panasonic                    2   \n",
       "KARBONN ALFA A90 3G           Android    KARBONN                    2   \n",
       "\n",
       "                      Ratings  Number Of Ratings  Reviews    RAM  Storage  \\\n",
       "Model                                                                       \n",
       "LAVA Flair S1             3.5                112       15  0.512    8.000   \n",
       "LAVA A32                  3.3                229       24  0.256    0.512   \n",
       "LAVA A59                  3.5                410       51  0.512    4.000   \n",
       "Panasonic T31             3.8                287       43  0.512    4.000   \n",
       "KARBONN ALFA A90 3G       2.8                 45        7  0.256    0.512   \n",
       "\n",
       "                      Expandable Storage  Expandable or Not  ...  \\\n",
       "Model                                                        ...   \n",
       "LAVA Flair S1                         32                  1  ...   \n",
       "LAVA A32                              32                  1  ...   \n",
       "LAVA A59                              32                  1  ...   \n",
       "Panasonic T31                          0                  0  ...   \n",
       "KARBONN ALFA A90 3G                   32                  1  ...   \n",
       "\n",
       "                     Retina Display  Retina HD Display  \\\n",
       "Model                                                    \n",
       "LAVA Flair S1                     0                  0   \n",
       "LAVA A32                          0                  0   \n",
       "LAVA A59                          0                  0   \n",
       "Panasonic T31                     0                  0   \n",
       "KARBONN ALFA A90 3G               0                  0   \n",
       "\n",
       "                      Super Retina XDR Display  \\\n",
       "Model                                            \n",
       "LAVA Flair S1                                0   \n",
       "LAVA A32                                     0   \n",
       "LAVA A59                                     0   \n",
       "Panasonic T31                                0   \n",
       "KARBONN ALFA A90 3G                          0   \n",
       "\n",
       "                      Full HD+ E3 Super AMOLED Display  \\\n",
       "Model                                                    \n",
       "LAVA Flair S1                                        0   \n",
       "LAVA A32                                             0   \n",
       "LAVA A59                                             0   \n",
       "Panasonic T31                                        0   \n",
       "KARBONN ALFA A90 3G                                  0   \n",
       "\n",
       "                      Liquid Retina HD Display  Quad HD Display  5G Android  \\\n",
       "Model                                                                         \n",
       "LAVA Flair S1                                0                0   0       1   \n",
       "LAVA A32                                     0                0   0       1   \n",
       "LAVA A59                                     0                0   0       1   \n",
       "Panasonic T31                                0                0   0       1   \n",
       "KARBONN ALFA A90 3G                          0                0   0       1   \n",
       "\n",
       "                      Windows iOS  \n",
       "Model                              \n",
       "LAVA Flair S1               0   0  \n",
       "LAVA A32                    0   0  \n",
       "LAVA A59                    0   0  \n",
       "Panasonic T31               0   0  \n",
       "KARBONN ALFA A90 3G         0   0  \n",
       "\n",
       "[5 rows x 50 columns]"
      ]
     },
     "execution_count": 3,
     "metadata": {},
     "output_type": "execute_result"
    }
   ],
   "source": [
    "#run here\n",
    "df = pd.read_csv('SP_Preprocessed.csv')\n",
    "df.set_index('Model', inplace=True)\n",
    "df.head()"
   ]
  },
  {
   "cell_type": "code",
   "execution_count": 4,
   "id": "c3269d5f-fccb-44e4-9eb0-69016924ee9d",
   "metadata": {},
   "outputs": [
    {
     "data": {
      "text/plain": [
       "(1168, 51)"
      ]
     },
     "execution_count": 4,
     "metadata": {},
     "output_type": "execute_result"
    }
   ],
   "source": [
    "df.shape"
   ]
  },
  {
   "cell_type": "code",
   "execution_count": 5,
   "id": "cedb92ec-1d29-42fa-87af-74fd369425ea",
   "metadata": {},
   "outputs": [
    {
     "data": {
      "text/plain": [
       "Operating System                      0\n",
       "Brands                                0\n",
       "Number of Sim Slots                   0\n",
       "Ratings                               0\n",
       "Number Of Ratings                     0\n",
       "Reviews                               0\n",
       "RAM                                   8\n",
       "Storage                               0\n",
       "Expandable Storage                    0\n",
       "Expandable or Not                     0\n",
       "Processor                           302\n",
       "Warranty                              0\n",
       "Price                                 0\n",
       "Front Camera1                         0\n",
       "Front Camera2                         0\n",
       "Number of Front Cameras               0\n",
       "Display_Size                          0\n",
       "Display Type                          0\n",
       "Battery_(mAh)                         0\n",
       "Battery_Type                         17\n",
       "Rear Camera1                          0\n",
       "Rear Camera2                          0\n",
       "Rear Camera3                          0\n",
       "Rear Camera4                          0\n",
       "Rear Camera5                          0\n",
       "Number Of Rear Cameras                0\n",
       "FWVGA Display                         0\n",
       "WVGA Display                          0\n",
       "HVGA Display                          0\n",
       "Normal Display                        0\n",
       "HD Display                            0\n",
       "Full HD Display                       0\n",
       "quarter HD Display                    0\n",
       "HD+ Display                           0\n",
       "NA Display                            0\n",
       "FWVGA+ Display                        0\n",
       "Full HD+ Display                      0\n",
       "QVGA Display                          0\n",
       "Quad HD+ Display                      0\n",
       "Full HD+ AMOLED Display               0\n",
       "Full HD+ Super AMOLED Display         0\n",
       "Retina Display                        0\n",
       "Retina HD Display                     0\n",
       "Super Retina XDR Display              0\n",
       "Full HD+ E3 Super AMOLED Display      0\n",
       "Liquid Retina HD Display              0\n",
       "Quad HD Display                       0\n",
       "5G                                    0\n",
       "Android                               0\n",
       "Windows                               0\n",
       "iOS                                   0\n",
       "dtype: int64"
      ]
     },
     "execution_count": 5,
     "metadata": {},
     "output_type": "execute_result"
    }
   ],
   "source": [
    "df.isnull().sum()"
   ]
  },
  {
   "cell_type": "markdown",
   "id": "bff0e4f1-6f14-4a8f-af43-32382c8055d4",
   "metadata": {},
   "source": [
    "-------------------------------------"
   ]
  },
  {
   "cell_type": "code",
   "execution_count": 1,
   "id": "49fe9c7b-5f75-4682-9519-3d69e26c8dc4",
   "metadata": {},
   "outputs": [],
   "source": [
    "import numpy as np\n",
    "import pandas as pd\n",
    "import matplotlib.pyplot as plt\n",
    "import re\n",
    "import warnings\n",
    "warnings.filterwarnings('ignore')"
   ]
  },
  {
   "cell_type": "code",
   "execution_count": 2,
   "id": "7bc6ada6-18fc-45ce-80b2-2cee8a9b8c33",
   "metadata": {
    "tags": []
   },
   "outputs": [],
   "source": [
    "df = pd.read_csv(r\"SP_Preprocessed.csv\")\n",
    "df.set_index('Model', inplace=True)"
   ]
  },
  {
   "cell_type": "code",
   "execution_count": 3,
   "id": "f252f9c1-2d63-4189-bbd4-0b28a57ef380",
   "metadata": {},
   "outputs": [
    {
     "data": {
      "text/plain": [
       "(2264, 51)"
      ]
     },
     "execution_count": 3,
     "metadata": {},
     "output_type": "execute_result"
    }
   ],
   "source": [
    "df.shape"
   ]
  },
  {
   "cell_type": "code",
   "execution_count": 12,
   "id": "26c08e85-a437-4376-92f6-06911a4434f8",
   "metadata": {},
   "outputs": [
    {
     "data": {
      "text/html": [
       "<div>\n",
       "<style scoped>\n",
       "    .dataframe tbody tr th:only-of-type {\n",
       "        vertical-align: middle;\n",
       "    }\n",
       "\n",
       "    .dataframe tbody tr th {\n",
       "        vertical-align: top;\n",
       "    }\n",
       "\n",
       "    .dataframe thead th {\n",
       "        text-align: right;\n",
       "    }\n",
       "</style>\n",
       "<table border=\"1\" class=\"dataframe\">\n",
       "  <thead>\n",
       "    <tr style=\"text-align: right;\">\n",
       "      <th></th>\n",
       "      <th>Brands</th>\n",
       "      <th>Number of Sim Slots</th>\n",
       "      <th>Ratings</th>\n",
       "      <th>Number Of Ratings</th>\n",
       "      <th>Reviews</th>\n",
       "      <th>RAM</th>\n",
       "      <th>Storage</th>\n",
       "      <th>Expandable Storage</th>\n",
       "      <th>Expandable or Not</th>\n",
       "      <th>Processor</th>\n",
       "      <th>...</th>\n",
       "      <th>Retina Display</th>\n",
       "      <th>Retina HD Display</th>\n",
       "      <th>Super Retina XDR Display</th>\n",
       "      <th>Full HD+ E3 Super AMOLED Display</th>\n",
       "      <th>Liquid Retina HD Display</th>\n",
       "      <th>Quad HD Display</th>\n",
       "      <th>5G</th>\n",
       "      <th>Android</th>\n",
       "      <th>Windows</th>\n",
       "      <th>iOS</th>\n",
       "    </tr>\n",
       "    <tr>\n",
       "      <th>Model</th>\n",
       "      <th></th>\n",
       "      <th></th>\n",
       "      <th></th>\n",
       "      <th></th>\n",
       "      <th></th>\n",
       "      <th></th>\n",
       "      <th></th>\n",
       "      <th></th>\n",
       "      <th></th>\n",
       "      <th></th>\n",
       "      <th></th>\n",
       "      <th></th>\n",
       "      <th></th>\n",
       "      <th></th>\n",
       "      <th></th>\n",
       "      <th></th>\n",
       "      <th></th>\n",
       "      <th></th>\n",
       "      <th></th>\n",
       "      <th></th>\n",
       "      <th></th>\n",
       "    </tr>\n",
       "  </thead>\n",
       "  <tbody>\n",
       "    <tr>\n",
       "      <th>LAVA Flair S1</th>\n",
       "      <td>LAVA</td>\n",
       "      <td>2</td>\n",
       "      <td>3.5</td>\n",
       "      <td>112</td>\n",
       "      <td>15</td>\n",
       "      <td>0.512</td>\n",
       "      <td>8.000</td>\n",
       "      <td>32</td>\n",
       "      <td>1</td>\n",
       "      <td>MTK6572W Processor</td>\n",
       "      <td>...</td>\n",
       "      <td>0</td>\n",
       "      <td>0</td>\n",
       "      <td>0</td>\n",
       "      <td>0</td>\n",
       "      <td>0</td>\n",
       "      <td>0</td>\n",
       "      <td>0</td>\n",
       "      <td>1</td>\n",
       "      <td>0</td>\n",
       "      <td>0</td>\n",
       "    </tr>\n",
       "    <tr>\n",
       "      <th>LAVA A32</th>\n",
       "      <td>LAVA</td>\n",
       "      <td>2</td>\n",
       "      <td>3.3</td>\n",
       "      <td>229</td>\n",
       "      <td>24</td>\n",
       "      <td>0.256</td>\n",
       "      <td>0.512</td>\n",
       "      <td>32</td>\n",
       "      <td>1</td>\n",
       "      <td>SC7715 Processor</td>\n",
       "      <td>...</td>\n",
       "      <td>0</td>\n",
       "      <td>0</td>\n",
       "      <td>0</td>\n",
       "      <td>0</td>\n",
       "      <td>0</td>\n",
       "      <td>0</td>\n",
       "      <td>0</td>\n",
       "      <td>1</td>\n",
       "      <td>0</td>\n",
       "      <td>0</td>\n",
       "    </tr>\n",
       "    <tr>\n",
       "      <th>LAVA A59</th>\n",
       "      <td>LAVA</td>\n",
       "      <td>2</td>\n",
       "      <td>3.5</td>\n",
       "      <td>410</td>\n",
       "      <td>51</td>\n",
       "      <td>0.512</td>\n",
       "      <td>4.000</td>\n",
       "      <td>32</td>\n",
       "      <td>1</td>\n",
       "      <td>SC7731C Processor</td>\n",
       "      <td>...</td>\n",
       "      <td>0</td>\n",
       "      <td>0</td>\n",
       "      <td>0</td>\n",
       "      <td>0</td>\n",
       "      <td>0</td>\n",
       "      <td>0</td>\n",
       "      <td>0</td>\n",
       "      <td>1</td>\n",
       "      <td>0</td>\n",
       "      <td>0</td>\n",
       "    </tr>\n",
       "    <tr>\n",
       "      <th>Panasonic T31</th>\n",
       "      <td>Panasonic</td>\n",
       "      <td>2</td>\n",
       "      <td>3.8</td>\n",
       "      <td>287</td>\n",
       "      <td>43</td>\n",
       "      <td>0.512</td>\n",
       "      <td>4.000</td>\n",
       "      <td>0</td>\n",
       "      <td>0</td>\n",
       "      <td>NaN</td>\n",
       "      <td>...</td>\n",
       "      <td>0</td>\n",
       "      <td>0</td>\n",
       "      <td>0</td>\n",
       "      <td>0</td>\n",
       "      <td>0</td>\n",
       "      <td>0</td>\n",
       "      <td>0</td>\n",
       "      <td>1</td>\n",
       "      <td>0</td>\n",
       "      <td>0</td>\n",
       "    </tr>\n",
       "    <tr>\n",
       "      <th>KARBONN ALFA A90 3G</th>\n",
       "      <td>KARBONN</td>\n",
       "      <td>2</td>\n",
       "      <td>2.8</td>\n",
       "      <td>45</td>\n",
       "      <td>7</td>\n",
       "      <td>0.256</td>\n",
       "      <td>0.512</td>\n",
       "      <td>32</td>\n",
       "      <td>1</td>\n",
       "      <td>NaN</td>\n",
       "      <td>...</td>\n",
       "      <td>0</td>\n",
       "      <td>0</td>\n",
       "      <td>0</td>\n",
       "      <td>0</td>\n",
       "      <td>0</td>\n",
       "      <td>0</td>\n",
       "      <td>0</td>\n",
       "      <td>1</td>\n",
       "      <td>0</td>\n",
       "      <td>0</td>\n",
       "    </tr>\n",
       "  </tbody>\n",
       "</table>\n",
       "<p>5 rows × 50 columns</p>\n",
       "</div>"
      ],
      "text/plain": [
       "                         Brands  Number of Sim Slots  Ratings  \\\n",
       "Model                                                           \n",
       "LAVA Flair S1              LAVA                    2      3.5   \n",
       "LAVA A32                   LAVA                    2      3.3   \n",
       "LAVA A59                   LAVA                    2      3.5   \n",
       "Panasonic T31         Panasonic                    2      3.8   \n",
       "KARBONN ALFA A90 3G     KARBONN                    2      2.8   \n",
       "\n",
       "                      Number Of Ratings  Reviews    RAM  Storage  \\\n",
       "Model                                                              \n",
       "LAVA Flair S1                       112       15  0.512    8.000   \n",
       "LAVA A32                            229       24  0.256    0.512   \n",
       "LAVA A59                            410       51  0.512    4.000   \n",
       "Panasonic T31                       287       43  0.512    4.000   \n",
       "KARBONN ALFA A90 3G                  45        7  0.256    0.512   \n",
       "\n",
       "                      Expandable Storage  Expandable or Not  \\\n",
       "Model                                                         \n",
       "LAVA Flair S1                         32                  1   \n",
       "LAVA A32                              32                  1   \n",
       "LAVA A59                              32                  1   \n",
       "Panasonic T31                          0                  0   \n",
       "KARBONN ALFA A90 3G                   32                  1   \n",
       "\n",
       "                               Processor  ...  Retina Display  \\\n",
       "Model                                     ...                   \n",
       "LAVA Flair S1         MTK6572W Processor  ...               0   \n",
       "LAVA A32                SC7715 Processor  ...               0   \n",
       "LAVA A59               SC7731C Processor  ...               0   \n",
       "Panasonic T31                        NaN  ...               0   \n",
       "KARBONN ALFA A90 3G                  NaN  ...               0   \n",
       "\n",
       "                      Retina HD Display  Super Retina XDR Display  \\\n",
       "Model                                                               \n",
       "LAVA Flair S1                         0                         0   \n",
       "LAVA A32                              0                         0   \n",
       "LAVA A59                              0                         0   \n",
       "Panasonic T31                         0                         0   \n",
       "KARBONN ALFA A90 3G                   0                         0   \n",
       "\n",
       "                      Full HD+ E3 Super AMOLED Display  \\\n",
       "Model                                                    \n",
       "LAVA Flair S1                                        0   \n",
       "LAVA A32                                             0   \n",
       "LAVA A59                                             0   \n",
       "Panasonic T31                                        0   \n",
       "KARBONN ALFA A90 3G                                  0   \n",
       "\n",
       "                      Liquid Retina HD Display  Quad HD Display 5G  Android  \\\n",
       "Model                                                                         \n",
       "LAVA Flair S1                                0                0  0        1   \n",
       "LAVA A32                                     0                0  0        1   \n",
       "LAVA A59                                     0                0  0        1   \n",
       "Panasonic T31                                0                0  0        1   \n",
       "KARBONN ALFA A90 3G                          0                0  0        1   \n",
       "\n",
       "                     Windows  iOS  \n",
       "Model                              \n",
       "LAVA Flair S1              0    0  \n",
       "LAVA A32                   0    0  \n",
       "LAVA A59                   0    0  \n",
       "Panasonic T31              0    0  \n",
       "KARBONN ALFA A90 3G        0    0  \n",
       "\n",
       "[5 rows x 50 columns]"
      ]
     },
     "execution_count": 12,
     "metadata": {},
     "output_type": "execute_result"
    }
   ],
   "source": [
    "df.head()"
   ]
  },
  {
   "cell_type": "code",
   "execution_count": 13,
   "id": "fcfb6cd1-d158-4928-925e-1f056b428822",
   "metadata": {},
   "outputs": [
    {
     "data": {
      "text/plain": [
       "Index(['Brands', 'Number of Sim Slots', 'Ratings', 'Number Of Ratings',\n",
       "       'Reviews', 'RAM', 'Storage', 'Expandable Storage', 'Expandable or Not',\n",
       "       'Processor', 'Warranty', 'Price', 'Front Camera1', 'Front Camera2',\n",
       "       'Number of Front Cameras', 'Display_Size', 'Display Type',\n",
       "       'Battery_(mAh)', 'Battery_Type', 'Rear Camera1', 'Rear Camera2',\n",
       "       'Rear Camera3', 'Rear Camera4', 'Rear Camera5',\n",
       "       'Number Of Rear Cameras', 'FWVGA Display', 'WVGA Display',\n",
       "       'HVGA Display', 'Normal Display', 'HD Display', 'Full HD Display',\n",
       "       'quarter HD Display', 'HD+ Display', 'NA Display', 'FWVGA+ Display',\n",
       "       'Full HD+ Display', 'QVGA Display', 'Quad HD+ Display',\n",
       "       'Full HD+ AMOLED Display', 'Full HD+ Super AMOLED Display',\n",
       "       'Retina Display', 'Retina HD Display', 'Super Retina XDR Display',\n",
       "       'Full HD+ E3 Super AMOLED Display', 'Liquid Retina HD Display',\n",
       "       'Quad HD Display', '5G', 'Android', 'Windows', 'iOS'],\n",
       "      dtype='object')"
      ]
     },
     "execution_count": 13,
     "metadata": {},
     "output_type": "execute_result"
    }
   ],
   "source": [
    "df.columns"
   ]
  },
  {
   "cell_type": "code",
   "execution_count": 21,
   "id": "800aa4a0-7b45-437e-9abc-0080dc93bf81",
   "metadata": {},
   "outputs": [
    {
     "name": "stdout",
     "output_type": "stream",
     "text": [
      "<class 'pandas.core.frame.DataFrame'>\n",
      "Index: 1176 entries, LAVA Flair S1  to vivo V23 5G \n",
      "Data columns (total 46 columns):\n",
      " #   Column                            Non-Null Count  Dtype  \n",
      "---  ------                            --------------  -----  \n",
      " 0   Number of Sim Slots               1176 non-null   int64  \n",
      " 1   Ratings                           1176 non-null   float64\n",
      " 2   Number Of Ratings                 1176 non-null   int64  \n",
      " 3   Reviews                           1176 non-null   int64  \n",
      " 4   RAM                               1176 non-null   float64\n",
      " 5   Storage                           1176 non-null   float64\n",
      " 6   Expandable Storage                1176 non-null   int64  \n",
      " 7   Expandable or Not                 1176 non-null   int64  \n",
      " 8   Warranty                          1176 non-null   float64\n",
      " 9   Price                             1176 non-null   int64  \n",
      " 10  Front Camera1                     1176 non-null   float64\n",
      " 11  Front Camera2                     1176 non-null   int64  \n",
      " 12  Number of Front Cameras           1176 non-null   int64  \n",
      " 13  Display_Size                      1176 non-null   float64\n",
      " 14  Battery_(mAh)                     1176 non-null   float64\n",
      " 15  Rear Camera1                      1176 non-null   float64\n",
      " 16  Rear Camera2                      1176 non-null   float64\n",
      " 17  Rear Camera3                      1176 non-null   float64\n",
      " 18  Rear Camera4                      1176 non-null   int64  \n",
      " 19  Rear Camera5                      1176 non-null   int64  \n",
      " 20  Number Of Rear Cameras            1176 non-null   int64  \n",
      " 21  FWVGA Display                     1176 non-null   int64  \n",
      " 22  WVGA Display                      1176 non-null   int64  \n",
      " 23  HVGA Display                      1176 non-null   int64  \n",
      " 24  Normal Display                    1176 non-null   int64  \n",
      " 25  HD Display                        1176 non-null   int64  \n",
      " 26  Full HD Display                   1176 non-null   int64  \n",
      " 27  quarter HD Display                1176 non-null   int64  \n",
      " 28  HD+ Display                       1176 non-null   int64  \n",
      " 29  NA Display                        1176 non-null   int64  \n",
      " 30  FWVGA+ Display                    1176 non-null   int64  \n",
      " 31  Full HD+ Display                  1176 non-null   int64  \n",
      " 32  QVGA Display                      1176 non-null   int64  \n",
      " 33  Quad HD+ Display                  1176 non-null   int64  \n",
      " 34  Full HD+ AMOLED Display           1176 non-null   int64  \n",
      " 35  Full HD+ Super AMOLED Display     1176 non-null   int64  \n",
      " 36  Retina Display                    1176 non-null   int64  \n",
      " 37  Retina HD Display                 1176 non-null   int64  \n",
      " 38  Super Retina XDR Display          1176 non-null   int64  \n",
      " 39  Full HD+ E3 Super AMOLED Display  1176 non-null   int64  \n",
      " 40  Liquid Retina HD Display          1176 non-null   int64  \n",
      " 41  Quad HD Display                   1176 non-null   int64  \n",
      " 42  5G                                1176 non-null   int64  \n",
      " 43  Android                           1176 non-null   int64  \n",
      " 44  Windows                           1176 non-null   int64  \n",
      " 45  iOS                               1176 non-null   int64  \n",
      "dtypes: float64(10), int64(36)\n",
      "memory usage: 431.8+ KB\n"
     ]
    }
   ],
   "source": [
    "df.info()"
   ]
  },
  {
   "cell_type": "code",
   "execution_count": 5,
   "id": "b2774e56-60e1-4f80-a7a8-3a48f4429428",
   "metadata": {},
   "outputs": [],
   "source": [
    "df.drop(['Processor', 'Display Type', 'Battery_Type', 'Brands', 'Operating System'], axis=1, inplace=True)"
   ]
  },
  {
   "cell_type": "code",
   "execution_count": 6,
   "id": "26316074-d453-42f0-b902-6d25ecbca39c",
   "metadata": {},
   "outputs": [],
   "source": [
    "df['RAM'] = df['RAM'].fillna(df['RAM'].value_counts().index[0])\n",
    "df['Storage'] = df['Storage'].fillna(df['Storage'].value_counts().index[0])\n",
    "df['Battery_(mAh)'] = df['Battery_(mAh)'].fillna(df['Battery_(mAh)'].value_counts().index[0])\n",
    "df['Warranty'] = df['Warranty'].fillna(df['Warranty'].value_counts().index[0])"
   ]
  },
  {
   "cell_type": "code",
   "execution_count": 7,
   "id": "d991a029-ca05-470a-851a-f4991032a578",
   "metadata": {},
   "outputs": [
    {
     "data": {
      "text/plain": [
       "Number of Sim Slots                 0\n",
       "Ratings                             0\n",
       "Number Of Ratings                   0\n",
       "Reviews                             0\n",
       "RAM                                 0\n",
       "Storage                             0\n",
       "Expandable Storage                  0\n",
       "Expandable or Not                   0\n",
       "Warranty                            0\n",
       "Price                               0\n",
       "Front Camera1                       0\n",
       "Front Camera2                       0\n",
       "Number of Front Cameras             0\n",
       "Display_Size                        0\n",
       "Battery_(mAh)                       0\n",
       "Rear Camera1                        0\n",
       "Rear Camera2                        0\n",
       "Rear Camera3                        0\n",
       "Rear Camera4                        0\n",
       "Number Of Rear Cameras              0\n",
       "FWVGA Display                       0\n",
       "WVGA Display                        0\n",
       "HVGA Display                        0\n",
       "Normal Display                      0\n",
       "HD Display                          0\n",
       "Full HD Display                     0\n",
       "quarter HD Display                  0\n",
       "HD+ Display                         0\n",
       "NA Display                          0\n",
       "FWVGA+ Display                      0\n",
       "Full HD+ Display                    0\n",
       "QVGA Display                        0\n",
       "Quad HD+ Display                    0\n",
       "Full HD+ AMOLED Display             0\n",
       "Full HD+ Super AMOLED Display       0\n",
       "Retina Display                      0\n",
       "Retina HD Display                   0\n",
       "Super Retina XDR Display            0\n",
       "Full HD+ E3 Super AMOLED Display    0\n",
       "Liquid Retina HD Display            0\n",
       "Quad HD Display                     0\n",
       "5G                                  0\n",
       "Android                             0\n",
       "Windows                             0\n",
       "iOS                                 0\n",
       "dtype: int64"
      ]
     },
     "execution_count": 7,
     "metadata": {},
     "output_type": "execute_result"
    }
   ],
   "source": [
    "df.isnull().sum()"
   ]
  },
  {
   "cell_type": "code",
   "execution_count": 9,
   "id": "f8a25e91-08df-413b-a778-507a84d8dfdf",
   "metadata": {},
   "outputs": [
    {
     "data": {
      "text/plain": [
       "array([0, 1], dtype=int64)"
      ]
     },
     "execution_count": 9,
     "metadata": {},
     "output_type": "execute_result"
    }
   ],
   "source": [
    "df['iOS'].unique()"
   ]
  },
  {
   "cell_type": "code",
   "execution_count": null,
   "id": "fbdd05de-d2e8-4394-8412-8aa3a0797e0a",
   "metadata": {},
   "outputs": [],
   "source": []
  },
  {
   "cell_type": "code",
   "execution_count": 22,
   "id": "90cb78c0-837c-4429-b938-caafb456f50f",
   "metadata": {},
   "outputs": [],
   "source": [
    "df.to_csv(r\"C:\\Users\\richa\\Desktop\\SP_Preprocessed.csv\")"
   ]
  },
  {
   "cell_type": "code",
   "execution_count": 7,
   "id": "5c4dce28-8b5f-450c-a4d0-b69a2dc6eaf1",
   "metadata": {
    "tags": []
   },
   "outputs": [],
   "source": [
    "#def price_range(value):\n",
    "#    if value < 10000:\n",
    "#        return 0\n",
    "#    if 10000 <= value < 20000:\n",
    "#        return 1\n",
    "#    elif 20000 <= value < 30000:\n",
    "#        return 2\n",
    "#    elif value >= 30000:\n",
    "#        return 3\n",
    "#df['Price Range'] = df['Price'].map(price_range)\n",
    "#       df.drop(['Price'], axis=1, inplace=True)"
   ]
  },
  {
   "cell_type": "markdown",
   "id": "c64248f5-ba8c-4388-a812-9484b7d1320e",
   "metadata": {
    "tags": []
   },
   "source": [
    "---------------------------"
   ]
  },
  {
   "cell_type": "markdown",
   "id": "8f8a2915-dd69-4dfd-9fa5-cfb75891bcca",
   "metadata": {
    "tags": []
   },
   "source": [
    "# Feature Transformation"
   ]
  },
  {
   "cell_type": "code",
   "execution_count": 9,
   "id": "6fc93ff2-b80b-4073-bbce-4f1cd899f9b4",
   "metadata": {},
   "outputs": [
    {
     "data": {
      "text/plain": [
       "Index(['Number of Sim Slots', 'Ratings', 'Number Of Ratings', 'Reviews', 'RAM',\n",
       "       'Storage', 'Expandable Storage', 'Expandable or Not', 'Warranty',\n",
       "       'Price', 'Front Camera1', 'Front Camera2', 'Number of Front Cameras',\n",
       "       'Display_Size', 'Battery_(mAh)', 'Rear Camera1', 'Rear Camera2',\n",
       "       'Rear Camera3', 'Rear Camera4', 'Number Of Rear Cameras',\n",
       "       'FWVGA Display', 'WVGA Display', 'HVGA Display', 'Normal Display',\n",
       "       'HD Display', 'Full HD Display', 'quarter HD Display', 'HD+ Display',\n",
       "       'NA Display', 'FWVGA+ Display', 'Full HD+ Display', 'QVGA Display',\n",
       "       'Quad HD+ Display', 'Full HD+ AMOLED Display',\n",
       "       'Full HD+ Super AMOLED Display', 'Retina Display', 'Retina HD Display',\n",
       "       'Super Retina XDR Display', 'Full HD+ E3 Super AMOLED Display',\n",
       "       'Liquid Retina HD Display', 'Quad HD Display', '5G', 'Android',\n",
       "       'Windows', 'iOS'],\n",
       "      dtype='object')"
      ]
     },
     "execution_count": 9,
     "metadata": {},
     "output_type": "execute_result"
    }
   ],
   "source": [
    "df.columns"
   ]
  },
  {
   "cell_type": "code",
   "execution_count": null,
   "id": "f6a8cdf5-349a-43a3-881c-6386c477e3dd",
   "metadata": {},
   "outputs": [],
   "source": [
    "from sklearn import preprocessing\n",
    "scaler = preprocessing.StandardScaler().fit(df)\n",
    "df_scaled = scaler.transform(df)\n",
    "df_scaled = pd.DataFrame(df_scaled, columns = ['Number of Sim Slots', 'Ratings', 'Number Of Ratings', 'Reviews', 'RAM',\n",
    "       'Storage', 'Expandable Storage', 'Expandable or Not', 'Warranty',\n",
    "       'Price', 'Front Camera1', 'Front Camera2', 'Number of Front Cameras',\n",
    "       'Display_Size', 'Battery_(mAh)', 'Rear Camera1', 'Rear Camera2',\n",
    "       'Rear Camera3', 'Rear Camera4', 'Rear Camera5',\n",
    "       'Number Of Rear Cameras', 'FWVGA Display', 'WVGA Display',\n",
    "       'HVGA Display', 'Normal Display', 'HD Display', 'Full HD Display',\n",
    "       'quarter HD Display', 'HD+ Display', 'NA Display', 'FWVGA+ Display',\n",
    "       'Full HD+ Display', 'QVGA Display', 'Quad HD+ Display',\n",
    "       'Full HD+ AMOLED Display', 'Full HD+ Super AMOLED Display',\n",
    "       'Retina Display', 'Retina HD Display', 'Super Retina XDR Display',\n",
    "       'Full HD+ E3 Super AMOLED Display', 'Liquid Retina HD Display',\n",
    "       'Quad HD Display', '5G'])"
   ]
  },
  {
   "cell_type": "code",
   "execution_count": 8,
   "id": "72f14ec2-d874-45da-9f82-dc7e64ecccb5",
   "metadata": {},
   "outputs": [
    {
     "ename": "ValueError",
     "evalue": "Shape of passed values is (1167, 45), indices imply (1167, 43)",
     "output_type": "error",
     "traceback": [
      "\u001b[1;31m---------------------------------------------------------------------------\u001b[0m",
      "\u001b[1;31mValueError\u001b[0m                                Traceback (most recent call last)",
      "Input \u001b[1;32mIn [8]\u001b[0m, in \u001b[0;36m<cell line: 4>\u001b[1;34m()\u001b[0m\n\u001b[0;32m      2\u001b[0m scaler \u001b[38;5;241m=\u001b[39m preprocessing\u001b[38;5;241m.\u001b[39mStandardScaler()\u001b[38;5;241m.\u001b[39mfit(df)\n\u001b[0;32m      3\u001b[0m df_scaled \u001b[38;5;241m=\u001b[39m scaler\u001b[38;5;241m.\u001b[39mtransform(df)\n\u001b[1;32m----> 4\u001b[0m df_scaled \u001b[38;5;241m=\u001b[39m \u001b[43mpd\u001b[49m\u001b[38;5;241;43m.\u001b[39;49m\u001b[43mDataFrame\u001b[49m\u001b[43m(\u001b[49m\u001b[43mdf_scaled\u001b[49m\u001b[43m,\u001b[49m\u001b[43m \u001b[49m\u001b[43mcolumns\u001b[49m\u001b[43m \u001b[49m\u001b[38;5;241;43m=\u001b[39;49m\u001b[43m \u001b[49m\u001b[43m[\u001b[49m\u001b[38;5;124;43m'\u001b[39;49m\u001b[38;5;124;43mNumber of Sim Slots\u001b[39;49m\u001b[38;5;124;43m'\u001b[39;49m\u001b[43m,\u001b[49m\u001b[43m \u001b[49m\u001b[38;5;124;43m'\u001b[39;49m\u001b[38;5;124;43mRatings\u001b[39;49m\u001b[38;5;124;43m'\u001b[39;49m\u001b[43m,\u001b[49m\u001b[43m \u001b[49m\u001b[38;5;124;43m'\u001b[39;49m\u001b[38;5;124;43mNumber Of Ratings\u001b[39;49m\u001b[38;5;124;43m'\u001b[39;49m\u001b[43m,\u001b[49m\u001b[43m \u001b[49m\u001b[38;5;124;43m'\u001b[39;49m\u001b[38;5;124;43mReviews\u001b[39;49m\u001b[38;5;124;43m'\u001b[39;49m\u001b[43m,\u001b[49m\u001b[43m \u001b[49m\u001b[38;5;124;43m'\u001b[39;49m\u001b[38;5;124;43mRAM\u001b[39;49m\u001b[38;5;124;43m'\u001b[39;49m\u001b[43m,\u001b[49m\n\u001b[0;32m      5\u001b[0m \u001b[43m       \u001b[49m\u001b[38;5;124;43m'\u001b[39;49m\u001b[38;5;124;43mStorage\u001b[39;49m\u001b[38;5;124;43m'\u001b[39;49m\u001b[43m,\u001b[49m\u001b[43m \u001b[49m\u001b[38;5;124;43m'\u001b[39;49m\u001b[38;5;124;43mExpandable Storage\u001b[39;49m\u001b[38;5;124;43m'\u001b[39;49m\u001b[43m,\u001b[49m\u001b[43m \u001b[49m\u001b[38;5;124;43m'\u001b[39;49m\u001b[38;5;124;43mExpandable or Not\u001b[39;49m\u001b[38;5;124;43m'\u001b[39;49m\u001b[43m,\u001b[49m\u001b[43m \u001b[49m\u001b[38;5;124;43m'\u001b[39;49m\u001b[38;5;124;43mWarranty\u001b[39;49m\u001b[38;5;124;43m'\u001b[39;49m\u001b[43m,\u001b[49m\n\u001b[0;32m      6\u001b[0m \u001b[43m       \u001b[49m\u001b[38;5;124;43m'\u001b[39;49m\u001b[38;5;124;43mPrice\u001b[39;49m\u001b[38;5;124;43m'\u001b[39;49m\u001b[43m,\u001b[49m\u001b[43m \u001b[49m\u001b[38;5;124;43m'\u001b[39;49m\u001b[38;5;124;43mFront Camera1\u001b[39;49m\u001b[38;5;124;43m'\u001b[39;49m\u001b[43m,\u001b[49m\u001b[43m \u001b[49m\u001b[38;5;124;43m'\u001b[39;49m\u001b[38;5;124;43mFront Camera2\u001b[39;49m\u001b[38;5;124;43m'\u001b[39;49m\u001b[43m,\u001b[49m\u001b[43m \u001b[49m\u001b[38;5;124;43m'\u001b[39;49m\u001b[38;5;124;43mNumber of Front Cameras\u001b[39;49m\u001b[38;5;124;43m'\u001b[39;49m\u001b[43m,\u001b[49m\n\u001b[0;32m      7\u001b[0m \u001b[43m       \u001b[49m\u001b[38;5;124;43m'\u001b[39;49m\u001b[38;5;124;43mDisplay_Size\u001b[39;49m\u001b[38;5;124;43m'\u001b[39;49m\u001b[43m,\u001b[49m\u001b[43m \u001b[49m\u001b[38;5;124;43m'\u001b[39;49m\u001b[38;5;124;43mBattery_(mAh)\u001b[39;49m\u001b[38;5;124;43m'\u001b[39;49m\u001b[43m,\u001b[49m\u001b[43m \u001b[49m\u001b[38;5;124;43m'\u001b[39;49m\u001b[38;5;124;43mRear Camera1\u001b[39;49m\u001b[38;5;124;43m'\u001b[39;49m\u001b[43m,\u001b[49m\u001b[43m \u001b[49m\u001b[38;5;124;43m'\u001b[39;49m\u001b[38;5;124;43mRear Camera2\u001b[39;49m\u001b[38;5;124;43m'\u001b[39;49m\u001b[43m,\u001b[49m\n\u001b[0;32m      8\u001b[0m \u001b[43m       \u001b[49m\u001b[38;5;124;43m'\u001b[39;49m\u001b[38;5;124;43mRear Camera3\u001b[39;49m\u001b[38;5;124;43m'\u001b[39;49m\u001b[43m,\u001b[49m\u001b[43m \u001b[49m\u001b[38;5;124;43m'\u001b[39;49m\u001b[38;5;124;43mRear Camera4\u001b[39;49m\u001b[38;5;124;43m'\u001b[39;49m\u001b[43m,\u001b[49m\u001b[43m \u001b[49m\u001b[38;5;124;43m'\u001b[39;49m\u001b[38;5;124;43mRear Camera5\u001b[39;49m\u001b[38;5;124;43m'\u001b[39;49m\u001b[43m,\u001b[49m\n\u001b[0;32m      9\u001b[0m \u001b[43m       \u001b[49m\u001b[38;5;124;43m'\u001b[39;49m\u001b[38;5;124;43mNumber Of Rear Cameras\u001b[39;49m\u001b[38;5;124;43m'\u001b[39;49m\u001b[43m,\u001b[49m\u001b[43m \u001b[49m\u001b[38;5;124;43m'\u001b[39;49m\u001b[38;5;124;43mFWVGA Display\u001b[39;49m\u001b[38;5;124;43m'\u001b[39;49m\u001b[43m,\u001b[49m\u001b[43m \u001b[49m\u001b[38;5;124;43m'\u001b[39;49m\u001b[38;5;124;43mWVGA Display\u001b[39;49m\u001b[38;5;124;43m'\u001b[39;49m\u001b[43m,\u001b[49m\n\u001b[0;32m     10\u001b[0m \u001b[43m       \u001b[49m\u001b[38;5;124;43m'\u001b[39;49m\u001b[38;5;124;43mHVGA Display\u001b[39;49m\u001b[38;5;124;43m'\u001b[39;49m\u001b[43m,\u001b[49m\u001b[43m \u001b[49m\u001b[38;5;124;43m'\u001b[39;49m\u001b[38;5;124;43mNormal Display\u001b[39;49m\u001b[38;5;124;43m'\u001b[39;49m\u001b[43m,\u001b[49m\u001b[43m \u001b[49m\u001b[38;5;124;43m'\u001b[39;49m\u001b[38;5;124;43mHD Display\u001b[39;49m\u001b[38;5;124;43m'\u001b[39;49m\u001b[43m,\u001b[49m\u001b[43m \u001b[49m\u001b[38;5;124;43m'\u001b[39;49m\u001b[38;5;124;43mFull HD Display\u001b[39;49m\u001b[38;5;124;43m'\u001b[39;49m\u001b[43m,\u001b[49m\n\u001b[0;32m     11\u001b[0m \u001b[43m       \u001b[49m\u001b[38;5;124;43m'\u001b[39;49m\u001b[38;5;124;43mquarter HD Display\u001b[39;49m\u001b[38;5;124;43m'\u001b[39;49m\u001b[43m,\u001b[49m\u001b[43m \u001b[49m\u001b[38;5;124;43m'\u001b[39;49m\u001b[38;5;124;43mHD+ Display\u001b[39;49m\u001b[38;5;124;43m'\u001b[39;49m\u001b[43m,\u001b[49m\u001b[43m \u001b[49m\u001b[38;5;124;43m'\u001b[39;49m\u001b[38;5;124;43mNA Display\u001b[39;49m\u001b[38;5;124;43m'\u001b[39;49m\u001b[43m,\u001b[49m\u001b[43m \u001b[49m\u001b[38;5;124;43m'\u001b[39;49m\u001b[38;5;124;43mFWVGA+ Display\u001b[39;49m\u001b[38;5;124;43m'\u001b[39;49m\u001b[43m,\u001b[49m\n\u001b[0;32m     12\u001b[0m \u001b[43m       \u001b[49m\u001b[38;5;124;43m'\u001b[39;49m\u001b[38;5;124;43mFull HD+ Display\u001b[39;49m\u001b[38;5;124;43m'\u001b[39;49m\u001b[43m,\u001b[49m\u001b[43m \u001b[49m\u001b[38;5;124;43m'\u001b[39;49m\u001b[38;5;124;43mQVGA Display\u001b[39;49m\u001b[38;5;124;43m'\u001b[39;49m\u001b[43m,\u001b[49m\u001b[43m \u001b[49m\u001b[38;5;124;43m'\u001b[39;49m\u001b[38;5;124;43mQuad HD+ Display\u001b[39;49m\u001b[38;5;124;43m'\u001b[39;49m\u001b[43m,\u001b[49m\n\u001b[0;32m     13\u001b[0m \u001b[43m       \u001b[49m\u001b[38;5;124;43m'\u001b[39;49m\u001b[38;5;124;43mFull HD+ AMOLED Display\u001b[39;49m\u001b[38;5;124;43m'\u001b[39;49m\u001b[43m,\u001b[49m\u001b[43m \u001b[49m\u001b[38;5;124;43m'\u001b[39;49m\u001b[38;5;124;43mFull HD+ Super AMOLED Display\u001b[39;49m\u001b[38;5;124;43m'\u001b[39;49m\u001b[43m,\u001b[49m\n\u001b[0;32m     14\u001b[0m \u001b[43m       \u001b[49m\u001b[38;5;124;43m'\u001b[39;49m\u001b[38;5;124;43mRetina Display\u001b[39;49m\u001b[38;5;124;43m'\u001b[39;49m\u001b[43m,\u001b[49m\u001b[43m \u001b[49m\u001b[38;5;124;43m'\u001b[39;49m\u001b[38;5;124;43mRetina HD Display\u001b[39;49m\u001b[38;5;124;43m'\u001b[39;49m\u001b[43m,\u001b[49m\u001b[43m \u001b[49m\u001b[38;5;124;43m'\u001b[39;49m\u001b[38;5;124;43mSuper Retina XDR Display\u001b[39;49m\u001b[38;5;124;43m'\u001b[39;49m\u001b[43m,\u001b[49m\n\u001b[0;32m     15\u001b[0m \u001b[43m       \u001b[49m\u001b[38;5;124;43m'\u001b[39;49m\u001b[38;5;124;43mFull HD+ E3 Super AMOLED Display\u001b[39;49m\u001b[38;5;124;43m'\u001b[39;49m\u001b[43m,\u001b[49m\u001b[43m \u001b[49m\u001b[38;5;124;43m'\u001b[39;49m\u001b[38;5;124;43mLiquid Retina HD Display\u001b[39;49m\u001b[38;5;124;43m'\u001b[39;49m\u001b[43m,\u001b[49m\n\u001b[0;32m     16\u001b[0m \u001b[43m       \u001b[49m\u001b[38;5;124;43m'\u001b[39;49m\u001b[38;5;124;43mQuad HD Display\u001b[39;49m\u001b[38;5;124;43m'\u001b[39;49m\u001b[43m,\u001b[49m\u001b[43m \u001b[49m\u001b[38;5;124;43m'\u001b[39;49m\u001b[38;5;124;43m5G\u001b[39;49m\u001b[38;5;124;43m'\u001b[39;49m\u001b[43m]\u001b[49m\u001b[43m)\u001b[49m\n",
      "File \u001b[1;32m~\\anaconda3\\lib\\site-packages\\pandas\\core\\frame.py:694\u001b[0m, in \u001b[0;36mDataFrame.__init__\u001b[1;34m(self, data, index, columns, dtype, copy)\u001b[0m\n\u001b[0;32m    684\u001b[0m         mgr \u001b[38;5;241m=\u001b[39m dict_to_mgr(\n\u001b[0;32m    685\u001b[0m             \u001b[38;5;66;03m# error: Item \"ndarray\" of \"Union[ndarray, Series, Index]\" has no\u001b[39;00m\n\u001b[0;32m    686\u001b[0m             \u001b[38;5;66;03m# attribute \"name\"\u001b[39;00m\n\u001b[1;32m   (...)\u001b[0m\n\u001b[0;32m    691\u001b[0m             typ\u001b[38;5;241m=\u001b[39mmanager,\n\u001b[0;32m    692\u001b[0m         )\n\u001b[0;32m    693\u001b[0m     \u001b[38;5;28;01melse\u001b[39;00m:\n\u001b[1;32m--> 694\u001b[0m         mgr \u001b[38;5;241m=\u001b[39m \u001b[43mndarray_to_mgr\u001b[49m\u001b[43m(\u001b[49m\n\u001b[0;32m    695\u001b[0m \u001b[43m            \u001b[49m\u001b[43mdata\u001b[49m\u001b[43m,\u001b[49m\n\u001b[0;32m    696\u001b[0m \u001b[43m            \u001b[49m\u001b[43mindex\u001b[49m\u001b[43m,\u001b[49m\n\u001b[0;32m    697\u001b[0m \u001b[43m            \u001b[49m\u001b[43mcolumns\u001b[49m\u001b[43m,\u001b[49m\n\u001b[0;32m    698\u001b[0m \u001b[43m            \u001b[49m\u001b[43mdtype\u001b[49m\u001b[38;5;241;43m=\u001b[39;49m\u001b[43mdtype\u001b[49m\u001b[43m,\u001b[49m\n\u001b[0;32m    699\u001b[0m \u001b[43m            \u001b[49m\u001b[43mcopy\u001b[49m\u001b[38;5;241;43m=\u001b[39;49m\u001b[43mcopy\u001b[49m\u001b[43m,\u001b[49m\n\u001b[0;32m    700\u001b[0m \u001b[43m            \u001b[49m\u001b[43mtyp\u001b[49m\u001b[38;5;241;43m=\u001b[39;49m\u001b[43mmanager\u001b[49m\u001b[43m,\u001b[49m\n\u001b[0;32m    701\u001b[0m \u001b[43m        \u001b[49m\u001b[43m)\u001b[49m\n\u001b[0;32m    703\u001b[0m \u001b[38;5;66;03m# For data is list-like, or Iterable (will consume into list)\u001b[39;00m\n\u001b[0;32m    704\u001b[0m \u001b[38;5;28;01melif\u001b[39;00m is_list_like(data):\n",
      "File \u001b[1;32m~\\anaconda3\\lib\\site-packages\\pandas\\core\\internals\\construction.py:351\u001b[0m, in \u001b[0;36mndarray_to_mgr\u001b[1;34m(values, index, columns, dtype, copy, typ)\u001b[0m\n\u001b[0;32m    346\u001b[0m \u001b[38;5;66;03m# _prep_ndarray ensures that values.ndim == 2 at this point\u001b[39;00m\n\u001b[0;32m    347\u001b[0m index, columns \u001b[38;5;241m=\u001b[39m _get_axes(\n\u001b[0;32m    348\u001b[0m     values\u001b[38;5;241m.\u001b[39mshape[\u001b[38;5;241m0\u001b[39m], values\u001b[38;5;241m.\u001b[39mshape[\u001b[38;5;241m1\u001b[39m], index\u001b[38;5;241m=\u001b[39mindex, columns\u001b[38;5;241m=\u001b[39mcolumns\n\u001b[0;32m    349\u001b[0m )\n\u001b[1;32m--> 351\u001b[0m \u001b[43m_check_values_indices_shape_match\u001b[49m\u001b[43m(\u001b[49m\u001b[43mvalues\u001b[49m\u001b[43m,\u001b[49m\u001b[43m \u001b[49m\u001b[43mindex\u001b[49m\u001b[43m,\u001b[49m\u001b[43m \u001b[49m\u001b[43mcolumns\u001b[49m\u001b[43m)\u001b[49m\n\u001b[0;32m    353\u001b[0m \u001b[38;5;28;01mif\u001b[39;00m typ \u001b[38;5;241m==\u001b[39m \u001b[38;5;124m\"\u001b[39m\u001b[38;5;124marray\u001b[39m\u001b[38;5;124m\"\u001b[39m:\n\u001b[0;32m    355\u001b[0m     \u001b[38;5;28;01mif\u001b[39;00m \u001b[38;5;28missubclass\u001b[39m(values\u001b[38;5;241m.\u001b[39mdtype\u001b[38;5;241m.\u001b[39mtype, \u001b[38;5;28mstr\u001b[39m):\n",
      "File \u001b[1;32m~\\anaconda3\\lib\\site-packages\\pandas\\core\\internals\\construction.py:422\u001b[0m, in \u001b[0;36m_check_values_indices_shape_match\u001b[1;34m(values, index, columns)\u001b[0m\n\u001b[0;32m    420\u001b[0m passed \u001b[38;5;241m=\u001b[39m values\u001b[38;5;241m.\u001b[39mshape\n\u001b[0;32m    421\u001b[0m implied \u001b[38;5;241m=\u001b[39m (\u001b[38;5;28mlen\u001b[39m(index), \u001b[38;5;28mlen\u001b[39m(columns))\n\u001b[1;32m--> 422\u001b[0m \u001b[38;5;28;01mraise\u001b[39;00m \u001b[38;5;167;01mValueError\u001b[39;00m(\u001b[38;5;124mf\u001b[39m\u001b[38;5;124m\"\u001b[39m\u001b[38;5;124mShape of passed values is \u001b[39m\u001b[38;5;132;01m{\u001b[39;00mpassed\u001b[38;5;132;01m}\u001b[39;00m\u001b[38;5;124m, indices imply \u001b[39m\u001b[38;5;132;01m{\u001b[39;00mimplied\u001b[38;5;132;01m}\u001b[39;00m\u001b[38;5;124m\"\u001b[39m)\n",
      "\u001b[1;31mValueError\u001b[0m: Shape of passed values is (1167, 45), indices imply (1167, 43)"
     ]
    }
   ],
   "source": [
    "from sklearn import preprocessing\n",
    "scaler = preprocessing.StandardScaler().fit(df)\n",
    "df_scaled = scaler.transform(df)\n",
    "df_scaled = pd.DataFrame(df_scaled, columns = ['Number of Sim Slots', 'Ratings', 'Number Of Ratings', 'Reviews', 'RAM',\n",
    "       'Storage', 'Expandable Storage', 'Expandable or Not', 'Warranty',\n",
    "       'Price', 'Front Camera1', 'Front Camera2', 'Number of Front Cameras',\n",
    "       'Display_Size', 'Battery_(mAh)', 'Rear Camera1', 'Rear Camera2',\n",
    "       'Rear Camera3', 'Rear Camera4', 'Rear Camera5',\n",
    "       'Number Of Rear Cameras', 'FWVGA Display', 'WVGA Display',\n",
    "       'HVGA Display', 'Normal Display', 'HD Display', 'Full HD Display',\n",
    "       'quarter HD Display', 'HD+ Display', 'NA Display', 'FWVGA+ Display',\n",
    "       'Full HD+ Display', 'QVGA Display', 'Quad HD+ Display',\n",
    "       'Full HD+ AMOLED Display', 'Full HD+ Super AMOLED Display',\n",
    "       'Retina Display', 'Retina HD Display', 'Super Retina XDR Display',\n",
    "       'Full HD+ E3 Super AMOLED Display', 'Liquid Retina HD Display',\n",
    "       'Quad HD Display', '5G'])"
   ]
  },
  {
   "cell_type": "code",
   "execution_count": 9,
   "id": "0396854c-b0c4-47a2-8e90-f6edbbe65e0a",
   "metadata": {},
   "outputs": [],
   "source": [
    "df_scaled.to_csv(r\"C:\\Users\\richa\\Desktop\\SP_Preprocessed.csv\")"
   ]
  },
  {
   "cell_type": "code",
   "execution_count": 18,
   "id": "97c5733a-e8a9-42c3-bd6f-2ed80bd27f88",
   "metadata": {},
   "outputs": [],
   "source": [
    "#X = df.drop('Price',axis=1)\n",
    "#y = df['Price']\n",
    "X = df_scaled.drop('Price',axis=1)\n",
    "y = df_scaled['Price']\n",
    "from sklearn.model_selection import train_test_split\n",
    "X_train, X_test, y_train, y_test = train_test_split(X, y, test_size=0.2, random_state=101)"
   ]
  },
  {
   "cell_type": "code",
   "execution_count": 80,
   "id": "8d049882-5d80-4557-a67b-990bbe3cb94f",
   "metadata": {},
   "outputs": [],
   "source": [
    "# Modelling"
   ]
  },
  {
   "cell_type": "code",
   "execution_count": 21,
   "id": "e2bb880d-e35c-4882-b35a-32bf8369b235",
   "metadata": {},
   "outputs": [
    {
     "name": "stdout",
     "output_type": "stream",
     "text": [
      "R2:  0.8257169287654124\n",
      "Root Mean Squared Error:  0.3716826425060801\n"
     ]
    }
   ],
   "source": [
    "from sklearn.linear_model import LinearRegression\n",
    "from sklearn.metrics import r2_score, mean_squared_error\n",
    "import warnings\n",
    "warnings.filterwarnings('ignore')\n",
    "reg = LinearRegression()\n",
    "reg.fit(X_train, y_train)\n",
    "pred = reg.predict(X_test)\n",
    "r2 = r2_score(y_test, pred)\n",
    "print('R2: ', r2)\n",
    "err = np.sqrt(mean_squared_error(y_test, pred))\n",
    "print('Root Mean Squared Error: ', err)"
   ]
  },
  {
   "cell_type": "code",
   "execution_count": 22,
   "id": "be7ea6ef-ba35-41df-ac4f-e45e07e1b8d1",
   "metadata": {},
   "outputs": [
    {
     "data": {
      "text/plain": [
       "array([-3.24528956e-02,  1.34636444e-01, -5.49397051e-02,  4.43769603e-02,\n",
       "        9.19453056e-02,  1.53405756e-01,  1.55731530e-02, -5.27926321e-02,\n",
       "        2.28209058e-02,  3.75577860e-02, -5.84788083e-02,  1.61513251e-02,\n",
       "        2.34858391e-01, -1.48491464e-01,  3.49862150e-02,  6.16542711e-02,\n",
       "        2.96902080e-01, -6.18939143e-03, -3.03249440e-02, -1.76335769e-01,\n",
       "        1.65634652e+11,  1.39362453e+11,  6.35851548e+10,  2.09060147e+11,\n",
       "        2.39149603e+11,  1.53490430e+11,  7.53271952e+10,  2.91048268e+11,\n",
       "        1.92569670e+10,  2.72214217e+10,  2.54475781e+11,  2.35796577e+10,\n",
       "        3.04277407e+10,  7.88348923e+10,  5.42981125e+10,  1.92569670e+10,\n",
       "        4.07869393e+10,  5.91305014e+10,  1.92569670e+10,  1.92569670e+10,\n",
       "        4.07869393e+10,  5.58759107e-02])"
      ]
     },
     "execution_count": 22,
     "metadata": {},
     "output_type": "execute_result"
    }
   ],
   "source": [
    "reg.coef_"
   ]
  },
  {
   "cell_type": "code",
   "execution_count": 23,
   "id": "da900109-0c47-47d5-94df-a32d6754588f",
   "metadata": {},
   "outputs": [
    {
     "data": {
      "text/plain": [
       "0.003256689980004149"
      ]
     },
     "execution_count": 23,
     "metadata": {},
     "output_type": "execute_result"
    }
   ],
   "source": [
    "reg.intercept_"
   ]
  },
  {
   "cell_type": "code",
   "execution_count": 24,
   "id": "831f7484-52d7-4f79-8282-3f1c99f29b48",
   "metadata": {},
   "outputs": [
    {
     "name": "stdout",
     "output_type": "stream",
     "text": [
      "R2:  0.7955315903314719\n",
      "Root Mean Squared Error:  0.40258518357164336\n"
     ]
    }
   ],
   "source": [
    "from sklearn.svm import SVR\n",
    "svr = SVR()\n",
    "svr.fit(X_train, y_train)\n",
    "pred = svr.predict(X_test)\n",
    "r2 = r2_score(y_test, pred)\n",
    "print('R2: ', r2)\n",
    "err = np.sqrt(mean_squared_error(y_test, pred))\n",
    "print('Root Mean Squared Error: ', err)"
   ]
  },
  {
   "cell_type": "code",
   "execution_count": 25,
   "id": "e983fb73-4cc8-460c-9717-5bbf3d37c782",
   "metadata": {},
   "outputs": [
    {
     "data": {
      "text/plain": [
       "array([[ 0.08489433,  0.15249158, -0.35856865, ..., -0.02973505,\n",
       "        -0.0631754 , -0.25868514],\n",
       "       [ 0.08489433, -0.09786443, -0.24653011, ..., -0.02973505,\n",
       "        -0.0631754 ,  3.8657033 ],\n",
       "       [ 0.08489433, -0.09786443, -0.36367222, ..., -0.02973505,\n",
       "        -0.0631754 , -0.25868514],\n",
       "       ...,\n",
       "       [ 0.08489433,  0.65320359, -0.33370906, ..., -0.02973505,\n",
       "        -0.0631754 , -0.25868514],\n",
       "       [ 0.08489433, -0.09786443, -0.36806331, ..., -0.02973505,\n",
       "        -0.0631754 , -0.25868514],\n",
       "       [ 0.08489433,  0.90355959, -0.31175363, ..., -0.02973505,\n",
       "        -0.0631754 , -0.25868514]])"
      ]
     },
     "execution_count": 25,
     "metadata": {},
     "output_type": "execute_result"
    }
   ],
   "source": [
    "svr.support_vectors_"
   ]
  },
  {
   "cell_type": "code",
   "execution_count": 26,
   "id": "d75905b8-4cf4-4b0e-b89e-5426d5f9d978",
   "metadata": {},
   "outputs": [
    {
     "data": {
      "text/plain": [
       "array([   0,    1,    2,    4,    6,    7,    8,   19,   21,   22,   23,\n",
       "         24,   25,   26,   31,   32,   33,   34,   35,   39,   42,   44,\n",
       "         47,   54,   57,   59,   60,   62,   66,   67,   69,   72,   76,\n",
       "         81,   82,   83,   84,   86,   88,   89,   92,   96,   98,  101,\n",
       "        104,  105,  106,  107,  108,  112,  116,  117,  119,  121,  123,\n",
       "        126,  130,  131,  132,  134,  135,  137,  138,  140,  141,  142,\n",
       "        143,  144,  149,  150,  152,  153,  154,  155,  159,  163,  168,\n",
       "        170,  172,  174,  176,  177,  178,  179,  182,  183,  187,  189,\n",
       "        192,  193,  194,  196,  199,  201,  202,  203,  204,  206,  207,\n",
       "        208,  209,  211,  213,  214,  216,  217,  220,  221,  222,  223,\n",
       "        224,  225,  226,  227,  232,  235,  236,  237,  239,  240,  241,\n",
       "        242,  246,  252,  253,  255,  256,  257,  260,  261,  262,  264,\n",
       "        265,  268,  269,  270,  272,  273,  274,  276,  277,  278,  279,\n",
       "        280,  284,  287,  289,  290,  291,  295,  299,  304,  305,  306,\n",
       "        307,  311,  312,  314,  317,  322,  323,  325,  326,  329,  334,\n",
       "        338,  343,  345,  349,  351,  352,  353,  354,  356,  358,  359,\n",
       "        362,  366,  367,  368,  371,  372,  377,  379,  382,  384,  385,\n",
       "        388,  389,  391,  392,  394,  396,  397,  398,  400,  401,  403,\n",
       "        405,  415,  416,  417,  419,  423,  424,  428,  430,  431,  432,\n",
       "        433,  434,  443,  447,  448,  450,  451,  452,  454,  455,  457,\n",
       "        458,  461,  465,  466,  467,  468,  471,  475,  482,  486,  488,\n",
       "        491,  494,  495,  496,  498,  499,  501,  511,  514,  518,  519,\n",
       "        520,  521,  525,  526,  527,  531,  533,  534,  535,  536,  537,\n",
       "        539,  541,  543,  545,  546,  548,  552,  554,  555,  556,  558,\n",
       "        559,  561,  565,  566,  567,  569,  570,  573,  575,  578,  579,\n",
       "        582,  586,  587,  588,  590,  591,  595,  597,  598,  599,  600,\n",
       "        601,  603,  604,  605,  608,  610,  612,  613,  614,  616,  617,\n",
       "        619,  620,  621,  625,  626,  627,  628,  629,  631,  632,  633,\n",
       "        634,  635,  636,  638,  640,  642,  644,  645,  649,  650,  651,\n",
       "        652,  653,  654,  656,  657,  658,  659,  665,  667,  668,  669,\n",
       "        670,  673,  674,  677,  678,  681,  682,  683,  684,  688,  691,\n",
       "        700,  701,  702,  703,  705,  707,  709,  710,  711,  712,  713,\n",
       "        715,  716,  718,  719,  720,  721,  723,  725,  726,  729,  731,\n",
       "        732,  733,  735,  736,  738,  741,  744,  746,  749,  751,  752,\n",
       "        754,  755,  757,  758,  759,  762,  767,  771,  772,  777,  778,\n",
       "        779,  780,  781,  783,  788,  791,  792,  793,  799,  800,  801,\n",
       "        802,  803,  804,  805,  807,  809,  811,  813,  815,  817,  822,\n",
       "        823,  824,  825,  826,  827,  829,  833,  834,  843,  844,  847,\n",
       "        849,  851,  854,  855,  857,  858,  864,  868,  869,  871,  873,\n",
       "        875,  877,  879,  880,  881,  885,  890,  892,  893,  894,  895,\n",
       "        896,  899,  900,  902,  906,  907,  910,  911,  912,  915,  917,\n",
       "        920,  922,  925,  926,  928,  929,  930,  931,  932,  933,  934,\n",
       "        935,  936,  938,  940,  941,  944,  945,  947,  952,  956,  957,\n",
       "        958,  959,  960,  962,  964,  965,  969,  970,  972,  973,  975,\n",
       "        976,  981,  983,  986,  988,  991,  994,  995,  996,  997,  998,\n",
       "       1000, 1004, 1005, 1006, 1007, 1010, 1012, 1015, 1017, 1021, 1028,\n",
       "       1029, 1030, 1036, 1037, 1038, 1039, 1041, 1045, 1046, 1047, 1048,\n",
       "       1049, 1051, 1053, 1056, 1059, 1060, 1063, 1064, 1065, 1066, 1067,\n",
       "       1071, 1077, 1079, 1081, 1082, 1084, 1085, 1086, 1088, 1089, 1093,\n",
       "       1094, 1096, 1099, 1104, 1105, 1111, 1113, 1114, 1119, 1121, 1125,\n",
       "       1126, 1127, 1130, 1132, 1134, 1137, 1138, 1143, 1147, 1148, 1151,\n",
       "       1152, 1153, 1155, 1158, 1161, 1165, 1167, 1168, 1169, 1170, 1171,\n",
       "       1173, 1177, 1178, 1179, 1180, 1181, 1183, 1185, 1187, 1189, 1191,\n",
       "       1192, 1193, 1194, 1197, 1202, 1205, 1208, 1210, 1211, 1213, 1215,\n",
       "       1217, 1219, 1220, 1221, 1222, 1223, 1224, 1226, 1227, 1228, 1229,\n",
       "       1230, 1232, 1235, 1237, 1241, 1243, 1244, 1246, 1247, 1248, 1249,\n",
       "       1250, 1251, 1252, 1253, 1259, 1260, 1261, 1262, 1263, 1264, 1265,\n",
       "       1266, 1267, 1268, 1269, 1270, 1271, 1272, 1273, 1277, 1278, 1279,\n",
       "       1280, 1282, 1285, 1290, 1292, 1294, 1298, 1299, 1301, 1304, 1307,\n",
       "       1313, 1315, 1319, 1320, 1321, 1322, 1324, 1326, 1329, 1331, 1333,\n",
       "       1335, 1336, 1338, 1343, 1344, 1347, 1348, 1350, 1355, 1356, 1357,\n",
       "       1358, 1360, 1361, 1364, 1365, 1369, 1373, 1374, 1375, 1376, 1377,\n",
       "       1380, 1381, 1383, 1385, 1387, 1388, 1391, 1392, 1393, 1394, 1396,\n",
       "       1398, 1399, 1401, 1402, 1403, 1404, 1407, 1408, 1412, 1414, 1415,\n",
       "       1419, 1422, 1424, 1425, 1426, 1428, 1431, 1432, 1433, 1434, 1435,\n",
       "       1438, 1439, 1447, 1448, 1451, 1453, 1458, 1460, 1462, 1463, 1467,\n",
       "       1468, 1470, 1472, 1477, 1478, 1481, 1482, 1483, 1484, 1486, 1487,\n",
       "       1492, 1494, 1495, 1496, 1497, 1498, 1501, 1502, 1503, 1506, 1508,\n",
       "       1509, 1510, 1511, 1512, 1513, 1515, 1516, 1517, 1518, 1519, 1520,\n",
       "       1521, 1522, 1523, 1526, 1528, 1529, 1530, 1531, 1534, 1536, 1538,\n",
       "       1540, 1547, 1548, 1550, 1552, 1554, 1557, 1559, 1561, 1563, 1565,\n",
       "       1569, 1572, 1577, 1578, 1581, 1584, 1587, 1589, 1590, 1593, 1594,\n",
       "       1600, 1601, 1603, 1604, 1605, 1607, 1608, 1612, 1613, 1614, 1615,\n",
       "       1616, 1622, 1623, 1625, 1627, 1628, 1631, 1632, 1635, 1636, 1637,\n",
       "       1638, 1639, 1642, 1647, 1648, 1649, 1650, 1651, 1652, 1653, 1655,\n",
       "       1656, 1657, 1659, 1660, 1663, 1665, 1666, 1667, 1669, 1670, 1672,\n",
       "       1675, 1676, 1678, 1679, 1680, 1681, 1685, 1687, 1688, 1694, 1695,\n",
       "       1697, 1698, 1701, 1703, 1704, 1706, 1707, 1708, 1709, 1712, 1713,\n",
       "       1714, 1715, 1716, 1718, 1722, 1724, 1730, 1731, 1732, 1735, 1736,\n",
       "       1740, 1741, 1742, 1745, 1748, 1750, 1755, 1756, 1761, 1763, 1764,\n",
       "       1769, 1776, 1778, 1783, 1785, 1787, 1788, 1789, 1790, 1794, 1795,\n",
       "       1798, 1801, 1802, 1803, 1804, 1805])"
      ]
     },
     "execution_count": 26,
     "metadata": {},
     "output_type": "execute_result"
    }
   ],
   "source": [
    "svr.support_"
   ]
  },
  {
   "cell_type": "code",
   "execution_count": 25,
   "id": "0f319c20-106b-4ca2-a74c-8aacc26e55dc",
   "metadata": {},
   "outputs": [
    {
     "data": {
      "text/plain": [
       "array([713])"
      ]
     },
     "execution_count": 25,
     "metadata": {},
     "output_type": "execute_result"
    }
   ],
   "source": [
    "svr.n_support_"
   ]
  },
  {
   "cell_type": "markdown",
   "id": "61ceae5d-36ae-49a9-9a74-48d794689c81",
   "metadata": {},
   "source": [
    "# Hyper Parameter Tuning"
   ]
  },
  {
   "cell_type": "markdown",
   "id": "491fa2b4-0763-4e30-889b-1d4eb921227a",
   "metadata": {},
   "source": [
    "# Linear Regression"
   ]
  },
  {
   "cell_type": "code",
   "execution_count": 29,
   "id": "813786f0-841a-4e74-9546-2162301dc338",
   "metadata": {
    "tags": []
   },
   "outputs": [
    {
     "data": {
      "text/plain": [
       "GridSearchCV(cv=20, estimator=LinearRegression(), param_grid={'n_jobs': [-1]},\n",
       "             scoring='r2')"
      ]
     },
     "execution_count": 29,
     "metadata": {},
     "output_type": "execute_result"
    }
   ],
   "source": [
    "from sklearn.linear_model import LinearRegression\n",
    "from sklearn.model_selection import KFold, GridSearchCV, StratifiedKFold\n",
    "import warnings\n",
    "warnings.filterwarnings('ignore')\n",
    "reg = LinearRegression()\n",
    "reg.get_params()\n",
    "fitintercept = [True, False]\n",
    "copy_x = [True, False]\n",
    "postive = [True, False]\n",
    "njobs = [-1]\n",
    "param_grid = {\n",
    "              'n_jobs': njobs}\n",
    "grid = GridSearchCV(estimator=reg, \n",
    "                    param_grid=param_grid, \n",
    "                    cv = 20, \n",
    "                    scoring='r2')\n",
    "grid.fit(X_train, y_train)"
   ]
  },
  {
   "cell_type": "code",
   "execution_count": 30,
   "id": "1f93639f-79a6-46d9-a57f-77e1a3f006c7",
   "metadata": {},
   "outputs": [
    {
     "name": "stdout",
     "output_type": "stream",
     "text": [
      "R2 of the tuned model: -6662187618812596060160.0000\n"
     ]
    }
   ],
   "source": [
    "print(\"R2 of the tuned model: %.4f\" %grid.best_score_)"
   ]
  },
  {
   "cell_type": "code",
   "execution_count": 31,
   "id": "7bce1265-0e73-4a6f-b97e-81f28a9fdc96",
   "metadata": {},
   "outputs": [
    {
     "name": "stdout",
     "output_type": "stream",
     "text": [
      "{'n_jobs': -1}\n"
     ]
    }
   ],
   "source": [
    "print(grid.best_params_)"
   ]
  },
  {
   "cell_type": "code",
   "execution_count": 32,
   "id": "e0cdc5f4-fdea-454d-bae4-af6fc07e2a7b",
   "metadata": {},
   "outputs": [],
   "source": [
    "pred = grid.predict(X_test)"
   ]
  },
  {
   "cell_type": "code",
   "execution_count": 33,
   "id": "8061805f-6c90-4053-a1c9-3d6078abdb42",
   "metadata": {},
   "outputs": [
    {
     "name": "stdout",
     "output_type": "stream",
     "text": [
      "R2:  0.8257169287654124\n",
      "Root Mean Squared Error:  0.3716826425060801\n"
     ]
    }
   ],
   "source": [
    "from sklearn.metrics import r2_score, mean_squared_error\n",
    "r2 = r2_score(y_test, pred)\n",
    "print('R2: ', r2)\n",
    "err = np.sqrt(mean_squared_error(y_test, pred))\n",
    "print('Root Mean Squared Error: ', err)"
   ]
  },
  {
   "cell_type": "markdown",
   "id": "2642786b-f707-4376-ad4b-e8db52434f07",
   "metadata": {},
   "source": [
    "# SVM"
   ]
  },
  {
   "cell_type": "code",
   "execution_count": 34,
   "id": "c99271d4-203b-4ed5-a515-fe713e11a015",
   "metadata": {},
   "outputs": [
    {
     "data": {
      "text/plain": [
       "{'C': 1.0,\n",
       " 'cache_size': 200,\n",
       " 'coef0': 0.0,\n",
       " 'degree': 3,\n",
       " 'epsilon': 0.1,\n",
       " 'gamma': 'scale',\n",
       " 'kernel': 'rbf',\n",
       " 'max_iter': -1,\n",
       " 'shrinking': True,\n",
       " 'tol': 0.001,\n",
       " 'verbose': False}"
      ]
     },
     "execution_count": 34,
     "metadata": {},
     "output_type": "execute_result"
    }
   ],
   "source": [
    "from sklearn.svm import SVR\n",
    "svr = SVR()\n",
    "svr.get_params()"
   ]
  },
  {
   "cell_type": "code",
   "execution_count": 35,
   "id": "0d678fa5-d729-46fb-ba4e-2d4c241d658f",
   "metadata": {},
   "outputs": [],
   "source": [
    "kernel_types = [\"linear\", \"poly\", \"rbf\", \"sigmoid\"] \n",
    "degree = [1,2,3,4,5]\n",
    "param_grid = {\"kernel\": kernel_types,\n",
    "              'degree':degree\n",
    "              } \n",
    "grid = GridSearchCV(estimator = svr, \n",
    "                    param_grid = param_grid, \n",
    "                    cv = 10, \n",
    "                    scoring = 'r2', \n",
    "                    refit = True,\n",
    "                   n_jobs=-1,\n",
    "                   verbose=1)"
   ]
  },
  {
   "cell_type": "code",
   "execution_count": 36,
   "id": "72f57f86-abc6-4f1f-948b-59d9ab43401e",
   "metadata": {},
   "outputs": [
    {
     "name": "stdout",
     "output_type": "stream",
     "text": [
      "Fitting 10 folds for each of 20 candidates, totalling 200 fits\n",
      "CPU times: total: 828 ms\n",
      "Wall time: 16.5 s\n"
     ]
    },
    {
     "data": {
      "text/plain": [
       "GridSearchCV(cv=10, estimator=SVR(), n_jobs=-1,\n",
       "             param_grid={'degree': [1, 2, 3, 4, 5],\n",
       "                         'kernel': ['linear', 'poly', 'rbf', 'sigmoid']},\n",
       "             scoring='r2', verbose=1)"
      ]
     },
     "execution_count": 36,
     "metadata": {},
     "output_type": "execute_result"
    }
   ],
   "source": [
    "%%time\n",
    "grid.fit(X_train, y_train)"
   ]
  },
  {
   "cell_type": "code",
   "execution_count": 37,
   "id": "09728e67-9695-44e6-9d7d-2dbc21fb8bb8",
   "metadata": {},
   "outputs": [
    {
     "name": "stdout",
     "output_type": "stream",
     "text": [
      "{'degree': 2, 'kernel': 'poly'}\n"
     ]
    }
   ],
   "source": [
    "print(grid.best_params_)"
   ]
  },
  {
   "cell_type": "code",
   "execution_count": 38,
   "id": "7e10496f-912c-4bce-acc5-21756342e566",
   "metadata": {},
   "outputs": [
    {
     "data": {
      "text/plain": [
       "0.8075944147340841"
      ]
     },
     "execution_count": 38,
     "metadata": {},
     "output_type": "execute_result"
    }
   ],
   "source": [
    "grid.best_score_"
   ]
  },
  {
   "cell_type": "code",
   "execution_count": 39,
   "id": "f40a809e-2b73-49e2-bd94-0224ccf89e94",
   "metadata": {},
   "outputs": [],
   "source": [
    "pred = grid.predict(X_test)"
   ]
  },
  {
   "cell_type": "code",
   "execution_count": 40,
   "id": "b701adca-aaa8-4343-81a9-5aa089006308",
   "metadata": {},
   "outputs": [
    {
     "name": "stdout",
     "output_type": "stream",
     "text": [
      "R2:  0.8961508156939165\n",
      "Root Mean Squared Error:  0.28691035491207345\n"
     ]
    }
   ],
   "source": [
    "r2 = r2_score(y_test, pred)\n",
    "print('R2: ', r2)\n",
    "err = np.sqrt(mean_squared_error(y_test, pred))\n",
    "print('Root Mean Squared Error: ', err)"
   ]
  },
  {
   "cell_type": "code",
   "execution_count": 41,
   "id": "83865bd4-2d06-443c-b6d9-e46ff5033f5f",
   "metadata": {},
   "outputs": [
    {
     "data": {
      "text/plain": [
       "0.28691035491207345"
      ]
     },
     "execution_count": 41,
     "metadata": {},
     "output_type": "execute_result"
    }
   ],
   "source": [
    "from sklearn.metrics import mean_squared_error\n",
    "mean_squared_error(y_test, pred, squared=False)\n"
   ]
  },
  {
   "cell_type": "code",
   "execution_count": 42,
   "id": "6d6cb96b-4e55-432e-b9d9-021edc2a993c",
   "metadata": {},
   "outputs": [
    {
     "data": {
      "text/plain": [
       "2.5385142367198545"
      ]
     },
     "execution_count": 42,
     "metadata": {},
     "output_type": "execute_result"
    }
   ],
   "source": [
    "from sklearn.metrics import max_error\n",
    "max_error(y_test, pred)"
   ]
  },
  {
   "cell_type": "code",
   "execution_count": 43,
   "id": "7f39f838-4fc1-4a7f-b37a-e5bd3b7c6493",
   "metadata": {},
   "outputs": [
    {
     "data": {
      "text/plain": [
       "0.8964712903193268"
      ]
     },
     "execution_count": 43,
     "metadata": {},
     "output_type": "execute_result"
    }
   ],
   "source": [
    "from sklearn.metrics import explained_variance_score\n",
    "explained_variance_score(y_test, pred)"
   ]
  },
  {
   "cell_type": "code",
   "execution_count": 44,
   "id": "c170d0ca-9806-41a9-9574-3aa5ebc8f5ac",
   "metadata": {},
   "outputs": [
    {
     "data": {
      "text/plain": [
       "5"
      ]
     },
     "execution_count": 44,
     "metadata": {},
     "output_type": "execute_result"
    }
   ],
   "source": [
    "grid.best_index_"
   ]
  },
  {
   "cell_type": "code",
   "execution_count": 45,
   "id": "033fb613-42e1-4f98-b6a9-3dfcfc03161a",
   "metadata": {
    "tags": []
   },
   "outputs": [
    {
     "data": {
      "text/plain": [
       "{'mean_fit_time': array([1.35286336, 0.17765505, 0.15236928, 0.26118743, 1.37841735,\n",
       "        0.1871326 , 0.17052839, 0.29325056, 1.43046298, 0.17410405,\n",
       "        0.16266453, 0.25232439, 1.34370637, 0.1822124 , 0.16326277,\n",
       "        0.24883394, 1.36924505, 0.21372755, 0.16216464, 0.24433341]),\n",
       " 'std_fit_time': array([0.06493407, 0.00759366, 0.00613737, 0.01954393, 0.08116762,\n",
       "        0.00864021, 0.01667315, 0.04024858, 0.11814664, 0.00737266,\n",
       "        0.00600814, 0.01089785, 0.06891554, 0.00680871, 0.00448351,\n",
       "        0.0093373 , 0.05627128, 0.01180992, 0.00450945, 0.02064376]),\n",
       " 'mean_score_time': array([0.01176841, 0.00854254, 0.02961056, 0.02184606, 0.01101358,\n",
       "        0.00960245, 0.03288414, 0.02041075, 0.01061015, 0.00518982,\n",
       "        0.03181496, 0.02024589, 0.01007304, 0.01107039, 0.03091741,\n",
       "        0.02034593, 0.01140244, 0.01126986, 0.03061872, 0.01835506]),\n",
       " 'std_score_time': array([0.00208283, 0.00729602, 0.00467745, 0.00635453, 0.0072116 ,\n",
       "        0.00685742, 0.008472  , 0.00710074, 0.00748179, 0.00522154,\n",
       "        0.00303994, 0.00089785, 0.00104126, 0.00069824, 0.00271301,\n",
       "        0.00048857, 0.00233153, 0.00100235, 0.00134165, 0.00293853]),\n",
       " 'param_degree': masked_array(data=[1, 1, 1, 1, 2, 2, 2, 2, 3, 3, 3, 3, 4, 4, 4, 4, 5, 5,\n",
       "                    5, 5],\n",
       "              mask=[False, False, False, False, False, False, False, False,\n",
       "                    False, False, False, False, False, False, False, False,\n",
       "                    False, False, False, False],\n",
       "        fill_value='?',\n",
       "             dtype=object),\n",
       " 'param_kernel': masked_array(data=['linear', 'poly', 'rbf', 'sigmoid', 'linear', 'poly',\n",
       "                    'rbf', 'sigmoid', 'linear', 'poly', 'rbf', 'sigmoid',\n",
       "                    'linear', 'poly', 'rbf', 'sigmoid', 'linear', 'poly',\n",
       "                    'rbf', 'sigmoid'],\n",
       "              mask=[False, False, False, False, False, False, False, False,\n",
       "                    False, False, False, False, False, False, False, False,\n",
       "                    False, False, False, False],\n",
       "        fill_value='?',\n",
       "             dtype=object),\n",
       " 'params': [{'degree': 1, 'kernel': 'linear'},\n",
       "  {'degree': 1, 'kernel': 'poly'},\n",
       "  {'degree': 1, 'kernel': 'rbf'},\n",
       "  {'degree': 1, 'kernel': 'sigmoid'},\n",
       "  {'degree': 2, 'kernel': 'linear'},\n",
       "  {'degree': 2, 'kernel': 'poly'},\n",
       "  {'degree': 2, 'kernel': 'rbf'},\n",
       "  {'degree': 2, 'kernel': 'sigmoid'},\n",
       "  {'degree': 3, 'kernel': 'linear'},\n",
       "  {'degree': 3, 'kernel': 'poly'},\n",
       "  {'degree': 3, 'kernel': 'rbf'},\n",
       "  {'degree': 3, 'kernel': 'sigmoid'},\n",
       "  {'degree': 4, 'kernel': 'linear'},\n",
       "  {'degree': 4, 'kernel': 'poly'},\n",
       "  {'degree': 4, 'kernel': 'rbf'},\n",
       "  {'degree': 4, 'kernel': 'sigmoid'},\n",
       "  {'degree': 5, 'kernel': 'linear'},\n",
       "  {'degree': 5, 'kernel': 'poly'},\n",
       "  {'degree': 5, 'kernel': 'rbf'},\n",
       "  {'degree': 5, 'kernel': 'sigmoid'}],\n",
       " 'split0_test_score': array([  0.88600833,   0.87699675,   0.82427956, -23.02863372,\n",
       "          0.88600833,   0.92369754,   0.82427956, -23.02863372,\n",
       "          0.88600833,   0.80116354,   0.82427956, -23.02863372,\n",
       "          0.88600833,   0.70824641,   0.82427956, -23.02863372,\n",
       "          0.88600833,   0.52317832,   0.82427956, -23.02863372]),\n",
       " 'split1_test_score': array([  0.42812557,   0.43023854,   0.58556016, -39.74505061,\n",
       "          0.42812557,   0.3220619 ,   0.58556016, -39.74505061,\n",
       "          0.42812557,   0.37636494,   0.58556016, -39.74505061,\n",
       "          0.42812557,   0.38437125,   0.58556016, -39.74505061,\n",
       "          0.42812557,  -0.0623644 ,   0.58556016, -39.74505061]),\n",
       " 'split2_test_score': array([  0.519715  ,   0.63033757,   0.71022196, -22.35267844,\n",
       "          0.519715  ,   0.72540009,   0.71022196, -22.35267844,\n",
       "          0.519715  ,   0.79570661,   0.71022196, -22.35267844,\n",
       "          0.519715  ,   0.7587622 ,   0.71022196, -22.35267844,\n",
       "          0.519715  ,   0.75912703,   0.71022196, -22.35267844]),\n",
       " 'split3_test_score': array([ 0.79240059,  0.78155578,  0.52081427, -3.88052344,  0.79240059,\n",
       "         0.84318895,  0.52081427, -3.88052344,  0.79240059,  0.74242534,\n",
       "         0.52081427, -3.88052344,  0.79240059,  0.76285661,  0.52081427,\n",
       "        -3.88052344,  0.79240059,  0.20509241,  0.52081427, -3.88052344]),\n",
       " 'split4_test_score': array([ 0.88124979,  0.87373557,  0.88368121, -7.54464392,  0.88124979,\n",
       "         0.89425444,  0.88368121, -7.54464392,  0.88124979,  0.85792447,\n",
       "         0.88368121, -7.54464392,  0.88124979,  0.84679213,  0.88368121,\n",
       "        -7.54464392,  0.88124979,  0.83337535,  0.88368121, -7.54464392]),\n",
       " 'split5_test_score': array([ 0.76846591,  0.76580826,  0.8047659 , -3.72287756,  0.76846591,\n",
       "         0.8750784 ,  0.8047659 , -3.72287756,  0.76846591,  0.85518688,\n",
       "         0.8047659 , -3.72287756,  0.76846591,  0.83459937,  0.8047659 ,\n",
       "        -3.72287756,  0.76846591,  0.81907187,  0.8047659 , -3.72287756]),\n",
       " 'split6_test_score': array([  0.57109426,   0.73471608,   0.86883138, -14.08674766,\n",
       "          0.57109426,   0.87479284,   0.86883138, -14.08674766,\n",
       "          0.57109426,   0.8630255 ,   0.86883138, -14.08674766,\n",
       "          0.57109426,   0.87364529,   0.86883138, -14.08674766,\n",
       "          0.57109426,   0.81307368,   0.86883138, -14.08674766]),\n",
       " 'split7_test_score': array([ 0.65452043,  0.8059409 ,  0.88529802, -6.04540761,  0.65452043,\n",
       "         0.8731402 ,  0.88529802, -6.04540761,  0.65452043,  0.88924089,\n",
       "         0.88529802, -6.04540761,  0.65452043,  0.89592992,  0.88529802,\n",
       "        -6.04540761,  0.65452043,  0.88728749,  0.88529802, -6.04540761]),\n",
       " 'split8_test_score': array([ 0.70258439,  0.68228778,  0.56867515, -6.46371162,  0.70258439,\n",
       "         0.809256  ,  0.56867515, -6.46371162,  0.70258439,  0.72696691,\n",
       "         0.56867515, -6.46371162,  0.70258439,  0.72211271,  0.56867515,\n",
       "        -6.46371162,  0.70258439,  0.64278393,  0.56867515, -6.46371162]),\n",
       " 'split9_test_score': array([ 0.90054665,  0.88019773,  0.88106897, -6.1865399 ,  0.90054665,\n",
       "         0.93507378,  0.88106897, -6.1865399 ,  0.90054665,  0.93245165,\n",
       "         0.88106897, -6.1865399 ,  0.90054665,  0.92839515,  0.88106897,\n",
       "        -6.1865399 ,  0.90054665,  0.91630403,  0.88106897, -6.1865399 ]),\n",
       " 'mean_test_score': array([  0.71047109,   0.7461815 ,   0.75331966, -13.30568145,\n",
       "          0.71047109,   0.80759441,   0.75331966, -13.30568145,\n",
       "          0.71047109,   0.78404567,   0.75331966, -13.30568145,\n",
       "          0.71047109,   0.7715711 ,   0.75331966, -13.30568145,\n",
       "          0.71047109,   0.63369297,   0.75331966, -13.30568145]),\n",
       " 'std_test_score': array([ 0.15649559,  0.13191072,  0.13780795, 11.13595013,  0.15649559,\n",
       "         0.1715734 ,  0.13780795, 11.13595013,  0.15649559,  0.14881873,\n",
       "         0.13780795, 11.13595013,  0.15649559,  0.14721708,  0.13780795,\n",
       "        11.13595013,  0.15649559,  0.30770427,  0.13780795, 11.13595013]),\n",
       " 'rank_test_score': array([10,  9,  4, 16, 10,  1,  4, 16, 10,  2,  4, 16, 10,  3,  4, 16, 10,\n",
       "        15,  4, 16])}"
      ]
     },
     "execution_count": 45,
     "metadata": {},
     "output_type": "execute_result"
    }
   ],
   "source": [
    "grid.cv_results_"
   ]
  },
  {
   "cell_type": "code",
   "execution_count": 46,
   "id": "7061f246-f5fc-4ec8-939a-8b0eff88fd02",
   "metadata": {},
   "outputs": [
    {
     "data": {
      "text/plain": [
       "SVR(degree=2, kernel='poly')"
      ]
     },
     "execution_count": 46,
     "metadata": {},
     "output_type": "execute_result"
    }
   ],
   "source": [
    "grid.best_estimator_"
   ]
  },
  {
   "cell_type": "code",
   "execution_count": 47,
   "id": "67734029-f25d-458d-8e23-36209b62a0de",
   "metadata": {},
   "outputs": [
    {
     "data": {
      "text/plain": [
       "0.8075944147340841"
      ]
     },
     "execution_count": 47,
     "metadata": {},
     "output_type": "execute_result"
    }
   ],
   "source": [
    "grid.best_score_"
   ]
  }
 ],
 "metadata": {
  "kernelspec": {
   "display_name": "Python 3 (ipykernel)",
   "language": "python",
   "name": "python3"
  },
  "language_info": {
   "codemirror_mode": {
    "name": "ipython",
    "version": 3
   },
   "file_extension": ".py",
   "mimetype": "text/x-python",
   "name": "python",
   "nbconvert_exporter": "python",
   "pygments_lexer": "ipython3",
   "version": "3.9.12"
  }
 },
 "nbformat": 4,
 "nbformat_minor": 5
}
